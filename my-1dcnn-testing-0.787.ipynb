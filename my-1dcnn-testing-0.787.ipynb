{
 "cells": [
  {
   "cell_type": "code",
   "execution_count": 1,
   "id": "534a6e63",
   "metadata": {
    "execution": {
     "iopub.execute_input": "2022-05-28T12:33:04.808662Z",
     "iopub.status.busy": "2022-05-28T12:33:04.808064Z",
     "iopub.status.idle": "2022-05-28T12:33:08.476478Z",
     "shell.execute_reply": "2022-05-28T12:33:08.475239Z"
    },
    "papermill": {
     "duration": 3.681741,
     "end_time": "2022-05-28T12:33:08.479057",
     "exception": false,
     "start_time": "2022-05-28T12:33:04.797316",
     "status": "completed"
    },
    "tags": []
   },
   "outputs": [
    {
     "data": {
      "text/html": [
       "<style type='text/css'>\n",
       ".datatable table.frame { margin-bottom: 0; }\n",
       ".datatable table.frame thead { border-bottom: none; }\n",
       ".datatable table.frame tr.coltypes td {  color: #FFFFFF;  line-height: 6px;  padding: 0 0.5em;}\n",
       ".datatable .bool    { background: #DDDD99; }\n",
       ".datatable .object  { background: #565656; }\n",
       ".datatable .int     { background: #5D9E5D; }\n",
       ".datatable .float   { background: #4040CC; }\n",
       ".datatable .str     { background: #CC4040; }\n",
       ".datatable .time    { background: #40CC40; }\n",
       ".datatable .row_index {  background: var(--jp-border-color3);  border-right: 1px solid var(--jp-border-color0);  color: var(--jp-ui-font-color3);  font-size: 9px;}\n",
       ".datatable .frame tbody td { text-align: left; }\n",
       ".datatable .frame tr.coltypes .row_index {  background: var(--jp-border-color0);}\n",
       ".datatable th:nth-child(2) { padding-left: 12px; }\n",
       ".datatable .hellipsis {  color: var(--jp-cell-editor-border-color);}\n",
       ".datatable .vellipsis {  background: var(--jp-layout-color0);  color: var(--jp-cell-editor-border-color);}\n",
       ".datatable .na {  color: var(--jp-cell-editor-border-color);  font-size: 80%;}\n",
       ".datatable .sp {  opacity: 0.25;}\n",
       ".datatable .footer { font-size: 9px; }\n",
       ".datatable .frame_dimensions {  background: var(--jp-border-color3);  border-top: 1px solid var(--jp-border-color0);  color: var(--jp-ui-font-color3);  display: inline-block;  opacity: 0.6;  padding: 1px 10px 1px 5px;}\n",
       "</style>\n"
      ],
      "text/plain": [
       "<IPython.core.display.HTML object>"
      ]
     },
     "metadata": {},
     "output_type": "display_data"
    }
   ],
   "source": [
    "## Imports\n",
    "import warnings\n",
    "warnings.filterwarnings('ignore')\n",
    "\n",
    "import os\n",
    "import gc\n",
    "import time\n",
    "import random\n",
    "import Levenshtein\n",
    "import difflib\n",
    "import multiprocessing\n",
    "import pandas as pd\n",
    "import numpy as np\n",
    "import lightgbm as lgb\n",
    "from unidecode import unidecode\n",
    "\n",
    "from tqdm import tqdm\n",
    "from sklearn.model_selection import GroupKFold, train_test_split\n",
    "from sklearn.neighbors import KNeighborsRegressor\n",
    "from sklearn.feature_extraction.text import TfidfVectorizer\n",
    "from sklearn.neighbors import NearestNeighbors\n",
    "\n",
    "from sklearn.preprocessing import QuantileTransformer\n",
    "from sklearn.metrics import f1_score, precision_score, recall_score, accuracy_score\n",
    "\n",
    "import torch\n",
    "import torch.nn as nn\n",
    "import torch.nn.functional as F\n",
    "\n",
    "import pickle"
   ]
  },
  {
   "cell_type": "code",
   "execution_count": 2,
   "id": "337519c6",
   "metadata": {
    "execution": {
     "iopub.execute_input": "2022-05-28T12:33:08.490210Z",
     "iopub.status.busy": "2022-05-28T12:33:08.489505Z",
     "iopub.status.idle": "2022-05-28T12:33:08.497108Z",
     "shell.execute_reply": "2022-05-28T12:33:08.496097Z"
    },
    "papermill": {
     "duration": 0.014949,
     "end_time": "2022-05-28T12:33:08.498847",
     "exception": false,
     "start_time": "2022-05-28T12:33:08.483898",
     "status": "completed"
    },
    "tags": []
   },
   "outputs": [],
   "source": [
    "TRAIN_FEATURES = ['kdist',\n",
    " 'kneighbors',\n",
    " 'kdist_country',\n",
    " 'kneighbors_country',\n",
    " 'name_sim',\n",
    " 'name_gesh',\n",
    " 'name_leven',\n",
    " 'name_jaro',\n",
    " 'name_lcs',\n",
    " 'name_len_diff',\n",
    " 'name_nleven',\n",
    " 'name_nlcsk',\n",
    " 'name_nlcs',\n",
    " 'address_sim',\n",
    " 'address_gesh',\n",
    " 'address_leven',\n",
    " 'address_jaro',\n",
    " 'address_lcs',\n",
    " 'address_len_diff',\n",
    " 'address_nleven',\n",
    " 'address_nlcsk',\n",
    " 'address_nlcs',\n",
    " 'city_gesh',\n",
    " 'city_leven',\n",
    " 'city_jaro',\n",
    " 'city_lcs',\n",
    " 'city_len_diff',\n",
    " 'city_nleven',\n",
    " 'city_nlcsk',\n",
    " 'city_nlcs',\n",
    " 'state_sim',\n",
    " 'state_gesh',\n",
    " 'state_leven',\n",
    " 'state_jaro',\n",
    " 'state_lcs',\n",
    " 'state_len_diff',\n",
    " 'state_nleven',\n",
    " 'state_nlcsk',\n",
    " 'state_nlcs',\n",
    " 'zip_gesh',\n",
    " 'zip_leven',\n",
    " 'zip_jaro',\n",
    " 'zip_lcs',\n",
    " 'url_sim',\n",
    " 'url_gesh',\n",
    " 'url_leven',\n",
    " 'url_jaro',\n",
    " 'url_lcs',\n",
    " 'url_len_diff',\n",
    " 'url_nleven',\n",
    " 'url_nlcsk',\n",
    " 'url_nlcs',\n",
    " 'phone_gesh',\n",
    " 'phone_leven',\n",
    " 'phone_jaro',\n",
    " 'phone_lcs',\n",
    " 'categories_sim',\n",
    " 'categories_gesh',\n",
    " 'categories_leven',\n",
    " 'categories_jaro',\n",
    " 'categories_lcs',\n",
    " 'categories_len_diff',\n",
    " 'categories_nleven',\n",
    " 'categories_nlcsk',\n",
    " 'categories_nlcs',\n",
    " 'country_sim',\n",
    " 'country_gesh',\n",
    " 'country_leven',\n",
    " 'country_jaro',\n",
    " 'country_lcs',\n",
    " 'country_len_diff',\n",
    " 'country_nleven',\n",
    " 'country_nlcsk',\n",
    " 'country_nlcs']"
   ]
  },
  {
   "cell_type": "code",
   "execution_count": 3,
   "id": "9b38e730",
   "metadata": {
    "execution": {
     "iopub.execute_input": "2022-05-28T12:33:08.509494Z",
     "iopub.status.busy": "2022-05-28T12:33:08.508614Z",
     "iopub.status.idle": "2022-05-28T12:33:08.514305Z",
     "shell.execute_reply": "2022-05-28T12:33:08.513526Z"
    },
    "papermill": {
     "duration": 0.012701,
     "end_time": "2022-05-28T12:33:08.515976",
     "exception": false,
     "start_time": "2022-05-28T12:33:08.503275",
     "status": "completed"
    },
    "tags": []
   },
   "outputs": [],
   "source": [
    "## Parameters\n",
    "NUM_NEIGHBOR = 20\n",
    "SEED = 2022\n",
    "THRESHOLD = 0.77\n",
    "NUM_SPLIT = 5\n",
    "feat_columns = ['name', 'address', 'city', \n",
    "            'state', 'zip', 'url', \n",
    "           'phone', 'categories', 'country']\n",
    "vec_columns = ['name', 'categories', 'address', \n",
    "               'state', 'url', 'country']\n",
    "\n",
    "def seed_everything(seed):\n",
    "    random.seed(seed)\n",
    "    np.random.seed(seed)\n",
    "    os.environ['PYTHONHASHSEED'] = str(seed)\n",
    "    \n",
    "seed_everything(SEED)"
   ]
  },
  {
   "cell_type": "code",
   "execution_count": 4,
   "id": "2772ecac",
   "metadata": {
    "execution": {
     "iopub.execute_input": "2022-05-28T12:33:08.526446Z",
     "iopub.status.busy": "2022-05-28T12:33:08.525932Z",
     "iopub.status.idle": "2022-05-28T12:33:09.258400Z",
     "shell.execute_reply": "2022-05-28T12:33:09.257448Z"
    },
    "papermill": {
     "duration": 0.740166,
     "end_time": "2022-05-28T12:33:09.260663",
     "exception": false,
     "start_time": "2022-05-28T12:33:08.520497",
     "status": "completed"
    },
    "tags": []
   },
   "outputs": [],
   "source": [
    "%load_ext Cython"
   ]
  },
  {
   "cell_type": "code",
   "execution_count": 5,
   "id": "d9d0fb4b",
   "metadata": {
    "execution": {
     "iopub.execute_input": "2022-05-28T12:33:09.271991Z",
     "iopub.status.busy": "2022-05-28T12:33:09.271027Z",
     "iopub.status.idle": "2022-05-28T12:33:10.598646Z",
     "shell.execute_reply": "2022-05-28T12:33:10.597410Z"
    },
    "papermill": {
     "duration": 1.335593,
     "end_time": "2022-05-28T12:33:10.600947",
     "exception": false,
     "start_time": "2022-05-28T12:33:09.265354",
     "status": "completed"
    },
    "tags": []
   },
   "outputs": [],
   "source": [
    "%%cython\n",
    "def LCS(str S, str T):\n",
    "    cdef int i, j\n",
    "    cdef list dp = [[0] * (len(T) + 1) for _ in range(len(S) + 1)]\n",
    "    for i in range(len(S)):\n",
    "        for j in range(len(T)):\n",
    "            dp[i + 1][j + 1] = max(dp[i][j] + (S[i] == T[j]), dp[i + 1][j], dp[i][j + 1], dp[i + 1][j + 1])\n",
    "    return dp[len(S)][len(T)]"
   ]
  },
  {
   "cell_type": "code",
   "execution_count": 6,
   "id": "5ad2b7b8",
   "metadata": {
    "execution": {
     "iopub.execute_input": "2022-05-28T12:33:10.612654Z",
     "iopub.status.busy": "2022-05-28T12:33:10.611934Z",
     "iopub.status.idle": "2022-05-28T12:33:10.623364Z",
     "shell.execute_reply": "2022-05-28T12:33:10.622653Z"
    },
    "papermill": {
     "duration": 0.019809,
     "end_time": "2022-05-28T12:33:10.625396",
     "exception": false,
     "start_time": "2022-05-28T12:33:10.605587",
     "status": "completed"
    },
    "tags": []
   },
   "outputs": [],
   "source": [
    "def recall_knn(df, Neighbors = 10):\n",
    "    print('Start knn grouped by country')\n",
    "    train_df_country = []\n",
    "    for country, country_df in tqdm(df.groupby('country')):\n",
    "        country_df = country_df.reset_index(drop = True)\n",
    "\n",
    "        neighbors = min(len(country_df), Neighbors)\n",
    "        knn = KNeighborsRegressor(n_neighbors = neighbors,\n",
    "                                    metric = 'haversine',\n",
    "                                    n_jobs = -1)\n",
    "        knn.fit(country_df[['latitude','longitude']], country_df.index)\n",
    "        dists, nears = knn.kneighbors(country_df[['latitude', 'longitude']], \n",
    "                                        return_distance = True)\n",
    "\n",
    "        for k in range(1, neighbors):            \n",
    "            cur_df = country_df[['id']]\n",
    "            cur_df['match_id'] = country_df['id'].values[nears[:, k]]\n",
    "            cur_df['kdist_country'] = dists[:, k]\n",
    "            cur_df['kneighbors_country'] = k\n",
    "            \n",
    "            train_df_country.append(cur_df)\n",
    "    train_df_country = pd.concat(train_df_country)\n",
    "    \n",
    "    print('Start knn')\n",
    "    train_df = []\n",
    "    knn = NearestNeighbors(n_neighbors = Neighbors)\n",
    "    knn.fit(df[['latitude','longitude']], df.index)\n",
    "    dists, nears = knn.kneighbors(df[['latitude','longitude']])\n",
    "    \n",
    "    for k in range(1, Neighbors):            \n",
    "        cur_df = df[['id']]\n",
    "        cur_df['match_id'] = df['id'].values[nears[:, k]]\n",
    "        cur_df['kdist'] = dists[:, k]\n",
    "        cur_df['kneighbors'] = k\n",
    "        train_df.append(cur_df)\n",
    "    \n",
    "    train_df = pd.concat(train_df)\n",
    "    train_df = train_df.merge(train_df_country,\n",
    "                                 on = ['id', 'match_id'],\n",
    "                                 how = 'outer')\n",
    "    del train_df_country\n",
    "    \n",
    "    return train_df"
   ]
  },
  {
   "cell_type": "code",
   "execution_count": 7,
   "id": "75398221",
   "metadata": {
    "execution": {
     "iopub.execute_input": "2022-05-28T12:33:10.636073Z",
     "iopub.status.busy": "2022-05-28T12:33:10.635700Z",
     "iopub.status.idle": "2022-05-28T12:33:10.649500Z",
     "shell.execute_reply": "2022-05-28T12:33:10.648845Z"
    },
    "papermill": {
     "duration": 0.021376,
     "end_time": "2022-05-28T12:33:10.651317",
     "exception": false,
     "start_time": "2022-05-28T12:33:10.629941",
     "status": "completed"
    },
    "tags": []
   },
   "outputs": [],
   "source": [
    "def unidecode_w_sort(s):\n",
    "    if s == NAN_STR:\n",
    "        return NAN_STR\n",
    "    s = unidecode(s)\n",
    "    s = ' '.join(sorted(s.strip().split(' '))).lower()\n",
    "    return s\n",
    "\n",
    "\n",
    "def add_features(df):\n",
    "    for col in tqdm(feat_columns):   \n",
    "        if col in vec_columns:\n",
    "            tv_fit = tfidf_d[col]\n",
    "            indexs = [id2index_d[i] for i in df['id']]\n",
    "            match_indexs = [id2index_d[i] for i in df['match_id']]                    \n",
    "            df[f'{col}_sim'] = tv_fit[indexs].multiply(tv_fit[match_indexs]).sum(axis = 1).A.ravel()\n",
    "        \n",
    "        col_values = data.loc[df['id']][col].values.astype(str)\n",
    "        matcol_values = data.loc[df['match_id']][col].values.astype(str)\n",
    "        \n",
    "        geshs = []\n",
    "        levens = []\n",
    "        jaros = []\n",
    "        lcss = []\n",
    "        for s, match_s in zip(col_values, matcol_values):\n",
    "            if s != NAN_STR and match_s != NAN_STR:                    \n",
    "                geshs.append(difflib.SequenceMatcher(None, s, match_s).ratio())\n",
    "                levens.append(Levenshtein.distance(s, match_s))\n",
    "                jaros.append(Levenshtein.jaro_winkler(s, match_s))\n",
    "                lcss.append(LCS(str(s), str(match_s)))\n",
    "            else:\n",
    "                geshs.append(np.nan)\n",
    "                levens.append(np.nan)\n",
    "                jaros.append(np.nan)\n",
    "                lcss.append(np.nan)\n",
    "        \n",
    "        df[f'{col}_gesh'] = geshs\n",
    "        df[f'{col}_leven'] = levens\n",
    "        df[f'{col}_jaro'] = jaros\n",
    "        df[f'{col}_lcs'] = lcss\n",
    "        \n",
    "        if col not in ['phone', 'zip']:\n",
    "            df[f'{col}_len'] = list(map(len, col_values))\n",
    "            df[f'match_{col}_len'] = list(map(len, matcol_values)) \n",
    "            df[f'{col}_len_diff'] = np.abs(df[f'{col}_len'] - df[f'match_{col}_len'])\n",
    "            df[f'{col}_nleven'] = df[f'{col}_leven'] / \\\n",
    "                                    df[[f'{col}_len', f'match_{col}_len']].max(axis = 1)\n",
    "            \n",
    "            df[f'{col}_nlcsk'] = df[f'{col}_lcs'] / df[f'match_{col}_len']\n",
    "            df[f'{col}_nlcs'] = df[f'{col}_lcs'] / df[f'{col}_len']\n",
    "            \n",
    "            df = df.drop(f'{col}_len', axis = 1)\n",
    "            df = df.drop(f'match_{col}_len', axis = 1)\n",
    "            gc.collect()\n",
    "            \n",
    "    df = df.replace(float('-inf'), -1)\n",
    "    df = df.replace(float('inf'), -1)\n",
    "    df = df.fillna(-1)\n",
    "    return df"
   ]
  },
  {
   "cell_type": "code",
   "execution_count": 8,
   "id": "a601f72e",
   "metadata": {
    "execution": {
     "iopub.execute_input": "2022-05-28T12:33:10.662609Z",
     "iopub.status.busy": "2022-05-28T12:33:10.661567Z",
     "iopub.status.idle": "2022-05-28T12:33:10.668229Z",
     "shell.execute_reply": "2022-05-28T12:33:10.667510Z"
    },
    "papermill": {
     "duration": 0.014234,
     "end_time": "2022-05-28T12:33:10.670122",
     "exception": false,
     "start_time": "2022-05-28T12:33:10.655888",
     "status": "completed"
    },
    "tags": []
   },
   "outputs": [],
   "source": [
    "def post_process(df):\n",
    "    id2match = dict(zip(df['id'].values, df['matches'].str.split()))\n",
    "\n",
    "    for base, match in df[['id', 'matches']].values:\n",
    "        match = match.split()\n",
    "        if len(match) == 1:        \n",
    "            continue\n",
    "\n",
    "        for m in match:\n",
    "            if base not in id2match[m]:\n",
    "                id2match[m].append(base)\n",
    "    df['matches'] = df['id'].map(id2match).map(' '.join)\n",
    "    return df"
   ]
  },
  {
   "cell_type": "code",
   "execution_count": 9,
   "id": "1c0f6134",
   "metadata": {
    "execution": {
     "iopub.execute_input": "2022-05-28T12:33:10.680852Z",
     "iopub.status.busy": "2022-05-28T12:33:10.680430Z",
     "iopub.status.idle": "2022-05-28T12:33:10.774863Z",
     "shell.execute_reply": "2022-05-28T12:33:10.774051Z"
    },
    "papermill": {
     "duration": 0.102439,
     "end_time": "2022-05-28T12:33:10.777020",
     "exception": false,
     "start_time": "2022-05-28T12:33:10.674581",
     "status": "completed"
    },
    "tags": []
   },
   "outputs": [],
   "source": [
    "## Data load\n",
    "NAN_STR = ''\n",
    "\n",
    "data_root = '../input/foursquare-location-matching'\n",
    "data = pd.read_csv(os.path.join(data_root, 'test.csv')).fillna(NAN_STR)\n",
    "\n",
    "if len(data) < 20:\n",
    "    data = pd.read_csv('../input/foursquare-location-matching/train.csv',\n",
    "                      nrows = 100).fillna(NAN_STR)\n",
    "    data = data.drop('point_of_interest', axis = 1)\n",
    "\n",
    "# normalize string\n",
    "for col in ['name', 'address', 'city', 'state', 'country', 'categories']:\n",
    "    data[col] = data[col].astype(str).apply(unidecode_w_sort)"
   ]
  },
  {
   "cell_type": "code",
   "execution_count": 10,
   "id": "f51eab39",
   "metadata": {
    "execution": {
     "iopub.execute_input": "2022-05-28T12:33:10.788019Z",
     "iopub.status.busy": "2022-05-28T12:33:10.787277Z",
     "iopub.status.idle": "2022-05-28T12:33:10.807433Z",
     "shell.execute_reply": "2022-05-28T12:33:10.806539Z"
    },
    "papermill": {
     "duration": 0.027934,
     "end_time": "2022-05-28T12:33:10.809476",
     "exception": false,
     "start_time": "2022-05-28T12:33:10.781542",
     "status": "completed"
    },
    "tags": []
   },
   "outputs": [
    {
     "data": {
      "text/html": [
       "<div>\n",
       "<style scoped>\n",
       "    .dataframe tbody tr th:only-of-type {\n",
       "        vertical-align: middle;\n",
       "    }\n",
       "\n",
       "    .dataframe tbody tr th {\n",
       "        vertical-align: top;\n",
       "    }\n",
       "\n",
       "    .dataframe thead th {\n",
       "        text-align: right;\n",
       "    }\n",
       "</style>\n",
       "<table border=\"1\" class=\"dataframe\">\n",
       "  <thead>\n",
       "    <tr style=\"text-align: right;\">\n",
       "      <th></th>\n",
       "      <th>id</th>\n",
       "      <th>name</th>\n",
       "      <th>latitude</th>\n",
       "      <th>longitude</th>\n",
       "      <th>address</th>\n",
       "      <th>city</th>\n",
       "      <th>state</th>\n",
       "      <th>zip</th>\n",
       "      <th>country</th>\n",
       "      <th>url</th>\n",
       "      <th>phone</th>\n",
       "      <th>categories</th>\n",
       "    </tr>\n",
       "  </thead>\n",
       "  <tbody>\n",
       "    <tr>\n",
       "      <th>0</th>\n",
       "      <td>E_000001272c6c5d</td>\n",
       "      <td>cafe oudenaarde stad</td>\n",
       "      <td>50.859975</td>\n",
       "      <td>3.634196</td>\n",
       "      <td>abdijstraat</td>\n",
       "      <td>nederename</td>\n",
       "      <td>oost-vlaanderen</td>\n",
       "      <td>9700</td>\n",
       "      <td>be</td>\n",
       "      <td></td>\n",
       "      <td></td>\n",
       "      <td>bars</td>\n",
       "    </tr>\n",
       "    <tr>\n",
       "      <th>1</th>\n",
       "      <td>E_000002eae2a589</td>\n",
       "      <td>carioca manero</td>\n",
       "      <td>-22.907225</td>\n",
       "      <td>-43.178244</td>\n",
       "      <td></td>\n",
       "      <td></td>\n",
       "      <td></td>\n",
       "      <td></td>\n",
       "      <td>br</td>\n",
       "      <td></td>\n",
       "      <td></td>\n",
       "      <td>brazilian restaurants</td>\n",
       "    </tr>\n",
       "    <tr>\n",
       "      <th>2</th>\n",
       "      <td>E_000007f24ebc95</td>\n",
       "      <td>raantadphmkaaraaekd</td>\n",
       "      <td>13.780813</td>\n",
       "      <td>100.484900</td>\n",
       "      <td></td>\n",
       "      <td></td>\n",
       "      <td></td>\n",
       "      <td></td>\n",
       "      <td>th</td>\n",
       "      <td></td>\n",
       "      <td></td>\n",
       "      <td>/ barbershops salons</td>\n",
       "    </tr>\n",
       "    <tr>\n",
       "      <th>3</th>\n",
       "      <td>E_000008a8ba4f48</td>\n",
       "      <td>turkcell</td>\n",
       "      <td>37.844510</td>\n",
       "      <td>27.844202</td>\n",
       "      <td>adnan bulvari menderes</td>\n",
       "      <td></td>\n",
       "      <td></td>\n",
       "      <td></td>\n",
       "      <td>tr</td>\n",
       "      <td></td>\n",
       "      <td></td>\n",
       "      <td>mobile phone shops</td>\n",
       "    </tr>\n",
       "    <tr>\n",
       "      <th>4</th>\n",
       "      <td>E_00001d92066153</td>\n",
       "      <td>casa cofino restaurante</td>\n",
       "      <td>43.338196</td>\n",
       "      <td>-4.326821</td>\n",
       "      <td></td>\n",
       "      <td>caviedes</td>\n",
       "      <td>cantabria</td>\n",
       "      <td></td>\n",
       "      <td>es</td>\n",
       "      <td></td>\n",
       "      <td></td>\n",
       "      <td>restaurants spanish</td>\n",
       "    </tr>\n",
       "  </tbody>\n",
       "</table>\n",
       "</div>"
      ],
      "text/plain": [
       "                 id                     name   latitude   longitude  \\\n",
       "0  E_000001272c6c5d     cafe oudenaarde stad  50.859975    3.634196   \n",
       "1  E_000002eae2a589           carioca manero -22.907225  -43.178244   \n",
       "2  E_000007f24ebc95      raantadphmkaaraaekd  13.780813  100.484900   \n",
       "3  E_000008a8ba4f48                 turkcell  37.844510   27.844202   \n",
       "4  E_00001d92066153  casa cofino restaurante  43.338196   -4.326821   \n",
       "\n",
       "                  address        city            state   zip country url  \\\n",
       "0             abdijstraat  nederename  oost-vlaanderen  9700      be       \n",
       "1                                                                 br       \n",
       "2                                                                 th       \n",
       "3  adnan bulvari menderes                                         tr       \n",
       "4                            caviedes        cantabria            es       \n",
       "\n",
       "  phone             categories  \n",
       "0                         bars  \n",
       "1        brazilian restaurants  \n",
       "2         / barbershops salons  \n",
       "3           mobile phone shops  \n",
       "4          restaurants spanish  "
      ]
     },
     "execution_count": 10,
     "metadata": {},
     "output_type": "execute_result"
    }
   ],
   "source": [
    "data.head(5)"
   ]
  },
  {
   "cell_type": "code",
   "execution_count": 11,
   "id": "b6e2d9b5",
   "metadata": {
    "execution": {
     "iopub.execute_input": "2022-05-28T12:33:10.820310Z",
     "iopub.status.busy": "2022-05-28T12:33:10.819934Z",
     "iopub.status.idle": "2022-05-28T12:33:10.840137Z",
     "shell.execute_reply": "2022-05-28T12:33:10.839164Z"
    },
    "papermill": {
     "duration": 0.027861,
     "end_time": "2022-05-28T12:33:10.842110",
     "exception": false,
     "start_time": "2022-05-28T12:33:10.814249",
     "status": "completed"
    },
    "tags": []
   },
   "outputs": [],
   "source": [
    "class CnnEncoder(nn.Module):\n",
    "    \"\"\"\n",
    "    src: https://github.com/baosenguo/Kaggle-MoA-2nd-Place-Solution/blob/main/training/1d-cnn-train.ipynb\n",
    "    \"\"\"\n",
    "    def __init__(self, num_features, num_targets=128, hidden_size=512, dropout=0.3):\n",
    "        super().__init__()\n",
    "        cha_1 = 64\n",
    "        cha_2 = 128\n",
    "        cha_3 = 128\n",
    "\n",
    "        cha_1_reshape = int(hidden_size/cha_1)\n",
    "        cha_po_1 = int(hidden_size/cha_1/2)\n",
    "        cha_po_2 = int(hidden_size/cha_1/2/2) * cha_3\n",
    "\n",
    "        self.cha_1 = cha_1\n",
    "        self.cha_2 = cha_2\n",
    "        self.cha_3 = cha_3\n",
    "        self.cha_1_reshape = cha_1_reshape\n",
    "        self.cha_po_1 = cha_po_1\n",
    "        self.cha_po_2 = cha_po_2\n",
    "\n",
    "        self.batch_norm1 = nn.BatchNorm1d(num_features)\n",
    "        self.dropout1 = nn.Dropout(dropout)\n",
    "        self.dense1 = nn.utils.weight_norm(nn.Linear(num_features, hidden_size))\n",
    "\n",
    "        self.batch_norm_c1 = nn.BatchNorm1d(cha_1)\n",
    "        self.dropout_c1 = nn.Dropout(dropout*0.9)\n",
    "        self.conv1 = nn.utils.weight_norm(nn.Conv1d(cha_1,cha_2, kernel_size = 5, stride = 1, padding=2,  bias=False),dim=None)\n",
    "\n",
    "        self.ave_po_c1 = nn.AdaptiveAvgPool1d(output_size = cha_po_1)\n",
    "\n",
    "        self.batch_norm_c2 = nn.BatchNorm1d(cha_2)\n",
    "        self.dropout_c2 = nn.Dropout(dropout*0.8)\n",
    "        self.conv2 = nn.utils.weight_norm(nn.Conv1d(cha_2,cha_2, kernel_size = 3, stride = 1, padding=1, bias=True),dim=None)\n",
    "\n",
    "        self.batch_norm_c2_1 = nn.BatchNorm1d(cha_2)\n",
    "        self.dropout_c2_1 = nn.Dropout(dropout*0.6)\n",
    "        self.conv2_1 = nn.utils.weight_norm(nn.Conv1d(cha_2,cha_2, kernel_size = 3, stride = 1, padding=1, bias=True),dim=None)\n",
    "\n",
    "        self.batch_norm_c2_2 = nn.BatchNorm1d(cha_2)\n",
    "        self.dropout_c2_2 = nn.Dropout(dropout*0.5)\n",
    "        self.conv2_2 = nn.utils.weight_norm(nn.Conv1d(cha_2,cha_3, kernel_size = 5, stride = 1, padding=2, bias=True),dim=None)\n",
    "\n",
    "        self.max_po_c2 = nn.MaxPool1d(kernel_size=4, stride=2, padding=1)\n",
    "\n",
    "        self.flt = nn.Flatten()\n",
    "        \n",
    "        self.batch_norm3 = nn.BatchNorm1d(cha_po_2)\n",
    "        self.dropout3 = nn.Dropout(dropout)\n",
    "        self.dense3 = nn.utils.weight_norm(nn.Linear(cha_po_2, num_targets))\n",
    "        \n",
    "        self.classifier = nn.Sequential(\n",
    "            nn.Linear(num_targets, 1),\n",
    "            nn.Sigmoid()\n",
    "        )\n",
    "\n",
    "    def forward(self, x):\n",
    "\n",
    "        x = self.batch_norm1(x)\n",
    "        x = self.dropout1(x)\n",
    "        x = F.celu(self.dense1(x), alpha=0.06)\n",
    "\n",
    "        x = x.reshape(x.shape[0],self.cha_1,\n",
    "                        self.cha_1_reshape)\n",
    "\n",
    "        x = self.batch_norm_c1(x)\n",
    "        x = self.dropout_c1(x)\n",
    "        x = F.relu(self.conv1(x))\n",
    "\n",
    "        x = self.ave_po_c1(x)\n",
    "\n",
    "        x = self.batch_norm_c2(x)\n",
    "        x = self.dropout_c2(x)\n",
    "        x = F.relu(self.conv2(x))\n",
    "        x_s = x\n",
    "\n",
    "        x = self.batch_norm_c2_1(x)\n",
    "        x = self.dropout_c2_1(x)\n",
    "        x = F.relu(self.conv2_1(x))\n",
    "\n",
    "        x = self.batch_norm_c2_2(x)\n",
    "        x = self.dropout_c2_2(x)\n",
    "        x = F.relu(self.conv2_2(x))\n",
    "        x =  x * x_s\n",
    "\n",
    "        x = self.max_po_c2(x)\n",
    "\n",
    "        x = self.flt(x)\n",
    "\n",
    "        x = self.batch_norm3(x)\n",
    "        x = self.dropout3(x)\n",
    "        x = self.dense3(x)\n",
    "        \n",
    "        x = self.classifier(x)\n",
    "        \n",
    "        return x.squeeze()"
   ]
  },
  {
   "cell_type": "code",
   "execution_count": 12,
   "id": "8dc86c9b",
   "metadata": {
    "execution": {
     "iopub.execute_input": "2022-05-28T12:33:10.853474Z",
     "iopub.status.busy": "2022-05-28T12:33:10.852759Z",
     "iopub.status.idle": "2022-05-28T12:33:14.511332Z",
     "shell.execute_reply": "2022-05-28T12:33:14.509902Z"
    },
    "papermill": {
     "duration": 3.667553,
     "end_time": "2022-05-28T12:33:14.514406",
     "exception": false,
     "start_time": "2022-05-28T12:33:10.846853",
     "status": "completed"
    },
    "tags": []
   },
   "outputs": [
    {
     "name": "stdout",
     "output_type": "stream",
     "text": [
      "Start knn grouped by country\n"
     ]
    },
    {
     "name": "stderr",
     "output_type": "stream",
     "text": [
      "100%|██████████| 32/32 [00:03<00:00,  9.00it/s]"
     ]
    },
    {
     "name": "stdout",
     "output_type": "stream",
     "text": [
      "Start knn\n",
      "Num of unique id: 100\n",
      "Num of test data: 2067\n",
      "                    id          match_id      kdist  kneighbors  \\\n",
      "1160  E_0003ffef645c7f  E_00063a791601cc  66.007715        12.0   \n",
      "546   E_0002efff139ea9  E_00011cca3f0bd6  12.668632         6.0   \n",
      "650   E_00035714ebb9bd  E_00045931e0bb56  19.699045         7.0   \n",
      "1581  E_00052849d90a2e  E_0000c362229d93  26.493093        16.0   \n",
      "1137  E_00028aea37a912  E_00047231d77294  24.293792        12.0   \n",
      "\n",
      "      kdist_country  kneighbors_country  \n",
      "1160            NaN                 NaN  \n",
      "546        1.269391                10.0  \n",
      "650             NaN                 NaN  \n",
      "1581            NaN                 NaN  \n",
      "1137            NaN                 NaN  \n"
     ]
    },
    {
     "name": "stderr",
     "output_type": "stream",
     "text": [
      "\n"
     ]
    }
   ],
   "source": [
    "id2index_d = dict(zip(data['id'].values, data.index))\n",
    "\n",
    "tfidf_d = {}\n",
    "for col in vec_columns:\n",
    "    tfidf = TfidfVectorizer()\n",
    "    tv_fit = tfidf.fit_transform(data[col].fillna('nan'))\n",
    "    tfidf_d[col] = tv_fit\n",
    "\n",
    "out_df = pd.DataFrame()\n",
    "out_df['id'] = data['id'].unique().tolist()\n",
    "out_df['match_id'] = out_df['id']\n",
    "\n",
    "test_data = recall_knn(data, NUM_NEIGHBOR)\n",
    "data = data.set_index('id')\n",
    "\n",
    "print('Num of unique id: %s' % test_data['id'].nunique())\n",
    "print('Num of test data: %s' % len(test_data))\n",
    "print(test_data.sample(5))"
   ]
  },
  {
   "cell_type": "code",
   "execution_count": 13,
   "id": "93b65341",
   "metadata": {
    "execution": {
     "iopub.execute_input": "2022-05-28T12:33:14.530520Z",
     "iopub.status.busy": "2022-05-28T12:33:14.529682Z",
     "iopub.status.idle": "2022-05-28T12:33:14.577773Z",
     "shell.execute_reply": "2022-05-28T12:33:14.577053Z"
    },
    "papermill": {
     "duration": 0.057736,
     "end_time": "2022-05-28T12:33:14.579541",
     "exception": false,
     "start_time": "2022-05-28T12:33:14.521805",
     "status": "completed"
    },
    "tags": []
   },
   "outputs": [
    {
     "data": {
      "text/plain": [
       "<All keys matched successfully>"
      ]
     },
     "execution_count": 13,
     "metadata": {},
     "output_type": "execute_result"
    }
   ],
   "source": [
    "device = torch.device('cuda' if torch.cuda.is_available() else 'cpu')\n",
    "model = CnnEncoder(num_features=74).to(device)\n",
    "model.load_state_dict(torch.load('../input/base-cnn-model/best_model.pth'))"
   ]
  },
  {
   "cell_type": "code",
   "execution_count": 14,
   "id": "7153e81c",
   "metadata": {
    "execution": {
     "iopub.execute_input": "2022-05-28T12:33:14.595720Z",
     "iopub.status.busy": "2022-05-28T12:33:14.594799Z",
     "iopub.status.idle": "2022-05-28T12:33:14.600471Z",
     "shell.execute_reply": "2022-05-28T12:33:14.599782Z"
    },
    "papermill": {
     "duration": 0.015767,
     "end_time": "2022-05-28T12:33:14.602211",
     "exception": false,
     "start_time": "2022-05-28T12:33:14.586444",
     "status": "completed"
    },
    "tags": []
   },
   "outputs": [
    {
     "data": {
      "text/plain": [
       "20"
      ]
     },
     "execution_count": 14,
     "metadata": {},
     "output_type": "execute_result"
    }
   ],
   "source": [
    "BATCH_SIZE = 512\n",
    "if len(data) < BATCH_SIZE:\n",
    "    BATCH_SIZE = len(data) // NUM_SPLIT\n",
    "BATCH_SIZE"
   ]
  },
  {
   "cell_type": "code",
   "execution_count": 15,
   "id": "e94e4b9b",
   "metadata": {
    "execution": {
     "iopub.execute_input": "2022-05-28T12:33:14.617674Z",
     "iopub.status.busy": "2022-05-28T12:33:14.617064Z",
     "iopub.status.idle": "2022-05-28T12:33:14.624638Z",
     "shell.execute_reply": "2022-05-28T12:33:14.624008Z"
    },
    "papermill": {
     "duration": 0.017234,
     "end_time": "2022-05-28T12:33:14.626412",
     "exception": false,
     "start_time": "2022-05-28T12:33:14.609178",
     "status": "completed"
    },
    "tags": []
   },
   "outputs": [],
   "source": [
    "def run_inference(model, data, qt=None, bs=BATCH_SIZE):\n",
    "    if qt is None:\n",
    "        with open('../input/base-qt/qt.pkl', 'rb') as handle:\n",
    "            qt = pickle.load(handle)\n",
    "    data = data[TRAIN_FEATURES]\n",
    "    data = qt.transform(data)\n",
    "    \n",
    "    outs = []\n",
    "    model.eval()\n",
    "    num_batch = len(data) // bs\n",
    "    pbar = tqdm(range(num_batch))\n",
    "    for batch_id in pbar:\n",
    "        # get data\n",
    "        start_idx = batch_id * BATCH_SIZE\n",
    "        end_idx = (batch_id+1) * BATCH_SIZE\n",
    "        if batch_id < num_batch - 1:\n",
    "            batch_data = data[start_idx:end_idx]\n",
    "        else:\n",
    "            batch_data = data[start_idx:]\n",
    "        \n",
    "        batch_data = torch.tensor(batch_data).float().to(device)\n",
    "        \n",
    "        # predict\n",
    "        pred = model(batch_data)\n",
    "        \n",
    "        outs += pred.detach().cpu().numpy().tolist()\n",
    "    return outs"
   ]
  },
  {
   "cell_type": "code",
   "execution_count": 16,
   "id": "0435dd73",
   "metadata": {
    "execution": {
     "iopub.execute_input": "2022-05-28T12:33:14.641290Z",
     "iopub.status.busy": "2022-05-28T12:33:14.640673Z",
     "iopub.status.idle": "2022-05-28T12:33:22.161480Z",
     "shell.execute_reply": "2022-05-28T12:33:22.160360Z"
    },
    "papermill": {
     "duration": 7.532057,
     "end_time": "2022-05-28T12:33:22.165112",
     "exception": false,
     "start_time": "2022-05-28T12:33:14.633055",
     "status": "completed"
    },
    "tags": []
   },
   "outputs": [
    {
     "name": "stdout",
     "output_type": "stream",
     "text": [
      "Current split: 1\n"
     ]
    },
    {
     "name": "stderr",
     "output_type": "stream",
     "text": [
      "100%|██████████| 9/9 [00:01<00:00,  7.20it/s]\n",
      "100%|██████████| 20/20 [00:00<00:00, 159.41it/s]\n"
     ]
    },
    {
     "name": "stdout",
     "output_type": "stream",
     "text": [
      "Current split: 2\n"
     ]
    },
    {
     "name": "stderr",
     "output_type": "stream",
     "text": [
      "100%|██████████| 9/9 [00:01<00:00,  7.58it/s]\n",
      "100%|██████████| 20/20 [00:00<00:00, 301.48it/s]\n"
     ]
    },
    {
     "name": "stdout",
     "output_type": "stream",
     "text": [
      "Current split: 3\n"
     ]
    },
    {
     "name": "stderr",
     "output_type": "stream",
     "text": [
      "100%|██████████| 9/9 [00:01<00:00,  7.54it/s]\n",
      "100%|██████████| 20/20 [00:00<00:00, 339.89it/s]\n"
     ]
    },
    {
     "name": "stdout",
     "output_type": "stream",
     "text": [
      "Current split: 4\n"
     ]
    },
    {
     "name": "stderr",
     "output_type": "stream",
     "text": [
      "100%|██████████| 9/9 [00:01<00:00,  7.52it/s]\n",
      "100%|██████████| 21/21 [00:00<00:00, 302.44it/s]\n"
     ]
    },
    {
     "name": "stdout",
     "output_type": "stream",
     "text": [
      "Current split: 5\n"
     ]
    },
    {
     "name": "stderr",
     "output_type": "stream",
     "text": [
      "100%|██████████| 9/9 [00:01<00:00,  7.43it/s]\n",
      "100%|██████████| 20/20 [00:00<00:00, 330.94it/s]\n"
     ]
    },
    {
     "name": "stdout",
     "output_type": "stream",
     "text": [
      "2067\n"
     ]
    }
   ],
   "source": [
    "## Prediction\n",
    "count = 0\n",
    "start_row = 0\n",
    "pred_df = pd.DataFrame()\n",
    "unique_id = test_data['id'].unique().tolist()\n",
    "num_split_id = len(unique_id) // NUM_SPLIT\n",
    "for k in range(1, NUM_SPLIT + 1):\n",
    "    print('Current split: %s' % k)\n",
    "    end_row = start_row + num_split_id\n",
    "    if k < NUM_SPLIT:\n",
    "        cur_id = unique_id[start_row : end_row]\n",
    "        cur_data = test_data[test_data['id'].isin(cur_id)]\n",
    "    else:\n",
    "        cur_id = unique_id[start_row: ]\n",
    "        cur_data = test_data[test_data['id'].isin(cur_id)]\n",
    "    \n",
    "    # add features & model prediction\n",
    "    cur_data = add_features(cur_data)\n",
    "    cur_data['pred'] = run_inference(model, cur_data) ####\n",
    "    cur_pred_df = cur_data[cur_data['pred'] > THRESHOLD][['id', 'match_id']]\n",
    "    pred_df = pd.concat([pred_df, cur_pred_df])\n",
    "    \n",
    "    start_row = end_row\n",
    "    count += len(cur_data)\n",
    "\n",
    "    del cur_data, cur_pred_df\n",
    "    gc.collect()\n",
    "print(count)"
   ]
  },
  {
   "cell_type": "code",
   "execution_count": 17,
   "id": "d577a24b",
   "metadata": {
    "execution": {
     "iopub.execute_input": "2022-05-28T12:33:22.189371Z",
     "iopub.status.busy": "2022-05-28T12:33:22.188521Z",
     "iopub.status.idle": "2022-05-28T12:33:22.209392Z",
     "shell.execute_reply": "2022-05-28T12:33:22.208740Z"
    },
    "papermill": {
     "duration": 0.034544,
     "end_time": "2022-05-28T12:33:22.211330",
     "exception": false,
     "start_time": "2022-05-28T12:33:22.176786",
     "status": "completed"
    },
    "tags": []
   },
   "outputs": [
    {
     "name": "stdout",
     "output_type": "stream",
     "text": [
      "Unique id: 100\n",
      "                 id            match_id           matches\n",
      "0  E_000001272c6c5d  [E_000001272c6c5d]  E_000001272c6c5d\n",
      "1  E_000002eae2a589  [E_000002eae2a589]  E_000002eae2a589\n",
      "2  E_000007f24ebc95  [E_000007f24ebc95]  E_000007f24ebc95\n",
      "3  E_000008a8ba4f48  [E_000008a8ba4f48]  E_000008a8ba4f48\n",
      "4  E_00001d92066153  [E_00001d92066153]  E_00001d92066153\n"
     ]
    }
   ],
   "source": [
    "## Submission    \n",
    "out_df = pd.concat([out_df, pred_df])\n",
    "out_df = out_df.groupby('id')['match_id'].\\\n",
    "                        apply(list).reset_index()\n",
    "out_df['matches'] = out_df['match_id'].apply(lambda x: ' '.join(set(x)))\n",
    "out_df = post_process(out_df)\n",
    "# out_df['matches'] = [' '.join([a] + b.split(' ')) for a, b in zip(out_df['id'], out_df['matches'])]\n",
    "\n",
    "\n",
    "print('Unique id: %s' % len(out_df))\n",
    "print(out_df.head())\n",
    "\n",
    "out_df[['id', 'matches']].to_csv('submission.csv', index = False)"
   ]
  },
  {
   "cell_type": "code",
   "execution_count": null,
   "id": "1fbde912",
   "metadata": {
    "papermill": {
     "duration": 0.010087,
     "end_time": "2022-05-28T12:33:22.231797",
     "exception": false,
     "start_time": "2022-05-28T12:33:22.221710",
     "status": "completed"
    },
    "tags": []
   },
   "outputs": [],
   "source": []
  }
 ],
 "metadata": {
  "kernelspec": {
   "display_name": "Python 3",
   "language": "python",
   "name": "python3"
  },
  "language_info": {
   "codemirror_mode": {
    "name": "ipython",
    "version": 3
   },
   "file_extension": ".py",
   "mimetype": "text/x-python",
   "name": "python",
   "nbconvert_exporter": "python",
   "pygments_lexer": "ipython3",
   "version": "3.7.12"
  },
  "papermill": {
   "default_parameters": {},
   "duration": 27.223289,
   "end_time": "2022-05-28T12:33:23.266218",
   "environment_variables": {},
   "exception": null,
   "input_path": "__notebook__.ipynb",
   "output_path": "__notebook__.ipynb",
   "parameters": {},
   "start_time": "2022-05-28T12:32:56.042929",
   "version": "2.3.4"
  }
 },
 "nbformat": 4,
 "nbformat_minor": 5
}
