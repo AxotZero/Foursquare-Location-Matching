{
 "cells": [
  {
   "cell_type": "code",
   "execution_count": 1,
   "id": "f887e20e",
   "metadata": {
    "_cell_guid": "b1076dfc-b9ad-4769-8c92-a6c4dae69d19",
    "_uuid": "8f2839f25d086af736a60e9eeb907d3b93b6e0e5",
    "execution": {
     "iopub.execute_input": "2022-05-30T05:13:20.859332Z",
     "iopub.status.busy": "2022-05-30T05:13:20.858731Z",
     "iopub.status.idle": "2022-05-30T05:13:22.796376Z",
     "shell.execute_reply": "2022-05-30T05:13:22.795511Z"
    },
    "papermill": {
     "duration": 1.94609,
     "end_time": "2022-05-30T05:13:22.798799",
     "exception": false,
     "start_time": "2022-05-30T05:13:20.852709",
     "status": "completed"
    },
    "tags": []
   },
   "outputs": [
    {
     "data": {
      "text/html": [
       "<style type='text/css'>\n",
       ".datatable table.frame { margin-bottom: 0; }\n",
       ".datatable table.frame thead { border-bottom: none; }\n",
       ".datatable table.frame tr.coltypes td {  color: #FFFFFF;  line-height: 6px;  padding: 0 0.5em;}\n",
       ".datatable .bool    { background: #DDDD99; }\n",
       ".datatable .object  { background: #565656; }\n",
       ".datatable .int     { background: #5D9E5D; }\n",
       ".datatable .float   { background: #4040CC; }\n",
       ".datatable .str     { background: #CC4040; }\n",
       ".datatable .time    { background: #40CC40; }\n",
       ".datatable .row_index {  background: var(--jp-border-color3);  border-right: 1px solid var(--jp-border-color0);  color: var(--jp-ui-font-color3);  font-size: 9px;}\n",
       ".datatable .frame tbody td { text-align: left; }\n",
       ".datatable .frame tr.coltypes .row_index {  background: var(--jp-border-color0);}\n",
       ".datatable th:nth-child(2) { padding-left: 12px; }\n",
       ".datatable .hellipsis {  color: var(--jp-cell-editor-border-color);}\n",
       ".datatable .vellipsis {  background: var(--jp-layout-color0);  color: var(--jp-cell-editor-border-color);}\n",
       ".datatable .na {  color: var(--jp-cell-editor-border-color);  font-size: 80%;}\n",
       ".datatable .sp {  opacity: 0.25;}\n",
       ".datatable .footer { font-size: 9px; }\n",
       ".datatable .frame_dimensions {  background: var(--jp-border-color3);  border-top: 1px solid var(--jp-border-color0);  color: var(--jp-ui-font-color3);  display: inline-block;  opacity: 0.6;  padding: 1px 10px 1px 5px;}\n",
       "</style>\n"
      ],
      "text/plain": [
       "<IPython.core.display.HTML object>"
      ]
     },
     "metadata": {},
     "output_type": "display_data"
    }
   ],
   "source": [
    "## Imports\n",
    "import warnings\n",
    "warnings.filterwarnings('ignore')\n",
    "\n",
    "import os\n",
    "import gc\n",
    "import random\n",
    "import numpy as np\n",
    "import lightgbm as lgb\n",
    "from tqdm import tqdm\n",
    "\n",
    "from sklearn.metrics import f1_score, precision_score, recall_score, accuracy_score\n",
    "import pickle"
   ]
  },
  {
   "cell_type": "code",
   "execution_count": 2,
   "id": "6afb83c9",
   "metadata": {
    "execution": {
     "iopub.execute_input": "2022-05-30T05:13:22.807570Z",
     "iopub.status.busy": "2022-05-30T05:13:22.807205Z",
     "iopub.status.idle": "2022-05-30T05:13:22.811655Z",
     "shell.execute_reply": "2022-05-30T05:13:22.810751Z"
    },
    "papermill": {
     "duration": 0.010896,
     "end_time": "2022-05-30T05:13:22.813533",
     "exception": false,
     "start_time": "2022-05-30T05:13:22.802637",
     "status": "completed"
    },
    "tags": []
   },
   "outputs": [],
   "source": [
    "seed = 2626\n",
    "np.random.seed(seed)\n",
    "random.seed(seed)"
   ]
  },
  {
   "cell_type": "code",
   "execution_count": 3,
   "id": "5f1ed0a8",
   "metadata": {
    "execution": {
     "iopub.execute_input": "2022-05-30T05:13:22.822446Z",
     "iopub.status.busy": "2022-05-30T05:13:22.821712Z",
     "iopub.status.idle": "2022-05-30T05:13:22.825859Z",
     "shell.execute_reply": "2022-05-30T05:13:22.824878Z"
    },
    "papermill": {
     "duration": 0.010427,
     "end_time": "2022-05-30T05:13:22.827547",
     "exception": false,
     "start_time": "2022-05-30T05:13:22.817120",
     "status": "completed"
    },
    "tags": []
   },
   "outputs": [],
   "source": [
    "# def my_read_csv(path):\n",
    "#     df = pd.read_csv(path)\n",
    "#     df.drop(columns=['id', 'match_id'], inplace=True)\n",
    "#     label = df.pop('label')\n",
    "#     df.insert(0, 'label', label)\n",
    "#     return np.unique(df.values, axis=0)"
   ]
  },
  {
   "cell_type": "code",
   "execution_count": 4,
   "id": "e9724aef",
   "metadata": {
    "execution": {
     "iopub.execute_input": "2022-05-30T05:13:22.836300Z",
     "iopub.status.busy": "2022-05-30T05:13:22.835814Z",
     "iopub.status.idle": "2022-05-30T05:13:52.020819Z",
     "shell.execute_reply": "2022-05-30T05:13:52.019782Z"
    },
    "papermill": {
     "duration": 29.191849,
     "end_time": "2022-05-30T05:13:52.022990",
     "exception": false,
     "start_time": "2022-05-30T05:13:22.831141",
     "status": "completed"
    },
    "tags": []
   },
   "outputs": [
    {
     "name": "stderr",
     "output_type": "stream",
     "text": [
      "100%|██████████| 5/5 [00:27<00:00,  5.44s/it]\n"
     ]
    }
   ],
   "source": [
    "DEBUG = False\n",
    "\n",
    "DATA_DIR = '../input/mytrainingdata2'\n",
    "\n",
    "if DEBUG:\n",
    "    data = my_read_csv(f'{DATA_DIR}/train_data1.csv')\n",
    "else:\n",
    "    \n",
    "    data = []\n",
    "    for i in tqdm(range(1, 6)):\n",
    "        with open(f'../input/mytrainingdata2/train_split{i}.pkl', 'rb') as handle:\n",
    "            data.append(pickle.load(handle))\n",
    "    data = np.concatenate(data, axis=0)"
   ]
  },
  {
   "cell_type": "code",
   "execution_count": 5,
   "id": "312312bb",
   "metadata": {
    "execution": {
     "iopub.execute_input": "2022-05-30T05:13:52.032691Z",
     "iopub.status.busy": "2022-05-30T05:13:52.032321Z",
     "iopub.status.idle": "2022-05-30T05:13:57.876894Z",
     "shell.execute_reply": "2022-05-30T05:13:57.875713Z"
    },
    "papermill": {
     "duration": 5.852185,
     "end_time": "2022-05-30T05:13:57.879359",
     "exception": false,
     "start_time": "2022-05-30T05:13:52.027174",
     "status": "completed"
    },
    "tags": []
   },
   "outputs": [],
   "source": [
    "idx_full = np.arange(len(data))\n",
    "random.shuffle(idx_full)\n",
    "len_valid = int(len(data) * 0.2)"
   ]
  },
  {
   "cell_type": "code",
   "execution_count": 6,
   "id": "001581f2",
   "metadata": {
    "execution": {
     "iopub.execute_input": "2022-05-30T05:13:57.889715Z",
     "iopub.status.busy": "2022-05-30T05:13:57.889347Z",
     "iopub.status.idle": "2022-05-30T05:13:58.008919Z",
     "shell.execute_reply": "2022-05-30T05:13:58.007771Z"
    },
    "papermill": {
     "duration": 0.126627,
     "end_time": "2022-05-30T05:13:58.010994",
     "exception": false,
     "start_time": "2022-05-30T05:13:57.884367",
     "status": "completed"
    },
    "tags": []
   },
   "outputs": [
    {
     "data": {
      "text/plain": [
       "72"
      ]
     },
     "execution_count": 6,
     "metadata": {},
     "output_type": "execute_result"
    }
   ],
   "source": [
    "gc.collect()"
   ]
  },
  {
   "cell_type": "code",
   "execution_count": 7,
   "id": "b51cb3cb",
   "metadata": {
    "execution": {
     "iopub.execute_input": "2022-05-30T05:13:58.020708Z",
     "iopub.status.busy": "2022-05-30T05:13:58.020346Z",
     "iopub.status.idle": "2022-05-30T06:26:58.963601Z",
     "shell.execute_reply": "2022-05-30T06:26:58.962446Z"
    },
    "papermill": {
     "duration": 4380.952197,
     "end_time": "2022-05-30T06:26:58.967481",
     "exception": false,
     "start_time": "2022-05-30T05:13:58.015284",
     "status": "completed"
    },
    "tags": []
   },
   "outputs": [
    {
     "name": "stdout",
     "output_type": "stream",
     "text": [
      "=== fold_idx 0 ===\n",
      "[50]\tvalid_0's auc: 0.981457\tvalid_0's binary_logloss: 0.0707262\n",
      "[100]\tvalid_0's auc: 0.982833\tvalid_0's binary_logloss: 0.0682088\n",
      "[150]\tvalid_0's auc: 0.98352\tvalid_0's binary_logloss: 0.0669009\n",
      "[200]\tvalid_0's auc: 0.984021\tvalid_0's binary_logloss: 0.0659714\n",
      "[250]\tvalid_0's auc: 0.984377\tvalid_0's binary_logloss: 0.0652809\n",
      "[300]\tvalid_0's auc: 0.984716\tvalid_0's binary_logloss: 0.0646042\n",
      "[350]\tvalid_0's auc: 0.984986\tvalid_0's binary_logloss: 0.0640457\n",
      "[400]\tvalid_0's auc: 0.985236\tvalid_0's binary_logloss: 0.0634865\n",
      "[450]\tvalid_0's auc: 0.985475\tvalid_0's binary_logloss: 0.0630288\n",
      "[500]\tvalid_0's auc: 0.985699\tvalid_0's binary_logloss: 0.0625571\n",
      "[550]\tvalid_0's auc: 0.985878\tvalid_0's binary_logloss: 0.0621707\n",
      "[600]\tvalid_0's auc: 0.986059\tvalid_0's binary_logloss: 0.0617842\n",
      "[650]\tvalid_0's auc: 0.986203\tvalid_0's binary_logloss: 0.0614617\n",
      "[700]\tvalid_0's auc: 0.986367\tvalid_0's binary_logloss: 0.061153\n",
      "[750]\tvalid_0's auc: 0.986554\tvalid_0's binary_logloss: 0.0607997\n",
      "[800]\tvalid_0's auc: 0.986704\tvalid_0's binary_logloss: 0.0605147\n",
      "[850]\tvalid_0's auc: 0.986836\tvalid_0's binary_logloss: 0.0602239\n",
      "[900]\tvalid_0's auc: 0.986965\tvalid_0's binary_logloss: 0.0599052\n",
      "[950]\tvalid_0's auc: 0.987107\tvalid_0's binary_logloss: 0.0596041\n",
      "[1000]\tvalid_0's auc: 0.987203\tvalid_0's binary_logloss: 0.0593422\n",
      "[1050]\tvalid_0's auc: 0.987334\tvalid_0's binary_logloss: 0.0590769\n",
      "[1100]\tvalid_0's auc: 0.987466\tvalid_0's binary_logloss: 0.0588173\n",
      "[1150]\tvalid_0's auc: 0.987559\tvalid_0's binary_logloss: 0.0585994\n",
      "[1200]\tvalid_0's auc: 0.987662\tvalid_0's binary_logloss: 0.0583509\n",
      "[1250]\tvalid_0's auc: 0.98776\tvalid_0's binary_logloss: 0.0581034\n",
      "[1300]\tvalid_0's auc: 0.987875\tvalid_0's binary_logloss: 0.0578374\n",
      "[1350]\tvalid_0's auc: 0.987949\tvalid_0's binary_logloss: 0.0576616\n",
      "[1400]\tvalid_0's auc: 0.98804\tvalid_0's binary_logloss: 0.05746\n",
      "[1450]\tvalid_0's auc: 0.98812\tvalid_0's binary_logloss: 0.0572347\n",
      "[1500]\tvalid_0's auc: 0.988215\tvalid_0's binary_logloss: 0.0570013\n",
      "[1550]\tvalid_0's auc: 0.988286\tvalid_0's binary_logloss: 0.0568418\n",
      "[1600]\tvalid_0's auc: 0.988359\tvalid_0's binary_logloss: 0.0566561\n",
      "=== fold_idx 1 ===\n",
      "[50]\tvalid_0's auc: 0.981607\tvalid_0's binary_logloss: 0.0702291\n",
      "[100]\tvalid_0's auc: 0.982946\tvalid_0's binary_logloss: 0.0676757\n",
      "[150]\tvalid_0's auc: 0.983637\tvalid_0's binary_logloss: 0.0663833\n",
      "[200]\tvalid_0's auc: 0.984027\tvalid_0's binary_logloss: 0.0655982\n",
      "[250]\tvalid_0's auc: 0.984447\tvalid_0's binary_logloss: 0.0648763\n",
      "[300]\tvalid_0's auc: 0.984757\tvalid_0's binary_logloss: 0.0642848\n",
      "[350]\tvalid_0's auc: 0.985081\tvalid_0's binary_logloss: 0.0636745\n",
      "[400]\tvalid_0's auc: 0.985359\tvalid_0's binary_logloss: 0.0630872\n",
      "[450]\tvalid_0's auc: 0.985565\tvalid_0's binary_logloss: 0.0626074\n",
      "[500]\tvalid_0's auc: 0.985846\tvalid_0's binary_logloss: 0.0620636\n",
      "[550]\tvalid_0's auc: 0.986053\tvalid_0's binary_logloss: 0.0616769\n",
      "[600]\tvalid_0's auc: 0.986199\tvalid_0's binary_logloss: 0.0613496\n",
      "[650]\tvalid_0's auc: 0.986398\tvalid_0's binary_logloss: 0.0609101\n",
      "[700]\tvalid_0's auc: 0.986554\tvalid_0's binary_logloss: 0.0605396\n",
      "[750]\tvalid_0's auc: 0.986677\tvalid_0's binary_logloss: 0.0602627\n",
      "[800]\tvalid_0's auc: 0.986819\tvalid_0's binary_logloss: 0.0599849\n",
      "[850]\tvalid_0's auc: 0.986963\tvalid_0's binary_logloss: 0.0596562\n",
      "[900]\tvalid_0's auc: 0.987098\tvalid_0's binary_logloss: 0.0593654\n",
      "[950]\tvalid_0's auc: 0.987218\tvalid_0's binary_logloss: 0.0590687\n",
      "[1000]\tvalid_0's auc: 0.98734\tvalid_0's binary_logloss: 0.0588045\n",
      "[1050]\tvalid_0's auc: 0.987467\tvalid_0's binary_logloss: 0.0585252\n",
      "[1100]\tvalid_0's auc: 0.98757\tvalid_0's binary_logloss: 0.0582729\n",
      "[1150]\tvalid_0's auc: 0.987674\tvalid_0's binary_logloss: 0.0579949\n",
      "[1200]\tvalid_0's auc: 0.987788\tvalid_0's binary_logloss: 0.057739\n",
      "[1250]\tvalid_0's auc: 0.987882\tvalid_0's binary_logloss: 0.0575391\n",
      "[1300]\tvalid_0's auc: 0.987987\tvalid_0's binary_logloss: 0.0573232\n",
      "[1350]\tvalid_0's auc: 0.988096\tvalid_0's binary_logloss: 0.0570954\n",
      "[1400]\tvalid_0's auc: 0.988168\tvalid_0's binary_logloss: 0.0569273\n",
      "[1450]\tvalid_0's auc: 0.988256\tvalid_0's binary_logloss: 0.0567139\n",
      "[1500]\tvalid_0's auc: 0.988349\tvalid_0's binary_logloss: 0.0565106\n",
      "[1550]\tvalid_0's auc: 0.988437\tvalid_0's binary_logloss: 0.0563001\n",
      "[1600]\tvalid_0's auc: 0.988514\tvalid_0's binary_logloss: 0.0560856\n",
      "=== fold_idx 2 ===\n",
      "[50]\tvalid_0's auc: 0.981723\tvalid_0's binary_logloss: 0.070143\n",
      "[100]\tvalid_0's auc: 0.983069\tvalid_0's binary_logloss: 0.0675749\n",
      "[150]\tvalid_0's auc: 0.98371\tvalid_0's binary_logloss: 0.0663444\n",
      "[200]\tvalid_0's auc: 0.984174\tvalid_0's binary_logloss: 0.0654542\n",
      "[250]\tvalid_0's auc: 0.984639\tvalid_0's binary_logloss: 0.0646606\n",
      "[300]\tvalid_0's auc: 0.984924\tvalid_0's binary_logloss: 0.064086\n",
      "[350]\tvalid_0's auc: 0.985266\tvalid_0's binary_logloss: 0.0634242\n",
      "[400]\tvalid_0's auc: 0.985466\tvalid_0's binary_logloss: 0.062978\n",
      "[450]\tvalid_0's auc: 0.985694\tvalid_0's binary_logloss: 0.0624869\n",
      "[500]\tvalid_0's auc: 0.985879\tvalid_0's binary_logloss: 0.0620703\n",
      "[550]\tvalid_0's auc: 0.986028\tvalid_0's binary_logloss: 0.0617212\n",
      "[600]\tvalid_0's auc: 0.986233\tvalid_0's binary_logloss: 0.0612396\n",
      "[650]\tvalid_0's auc: 0.986441\tvalid_0's binary_logloss: 0.0608242\n",
      "[700]\tvalid_0's auc: 0.986601\tvalid_0's binary_logloss: 0.0604615\n",
      "[750]\tvalid_0's auc: 0.986716\tvalid_0's binary_logloss: 0.0602016\n",
      "[800]\tvalid_0's auc: 0.986848\tvalid_0's binary_logloss: 0.059914\n",
      "[850]\tvalid_0's auc: 0.986968\tvalid_0's binary_logloss: 0.0596574\n",
      "[900]\tvalid_0's auc: 0.987076\tvalid_0's binary_logloss: 0.0594031\n",
      "[950]\tvalid_0's auc: 0.987202\tvalid_0's binary_logloss: 0.059123\n",
      "[1000]\tvalid_0's auc: 0.987311\tvalid_0's binary_logloss: 0.0588801\n",
      "[1050]\tvalid_0's auc: 0.98743\tvalid_0's binary_logloss: 0.0586097\n",
      "[1100]\tvalid_0's auc: 0.987565\tvalid_0's binary_logloss: 0.0582906\n",
      "[1150]\tvalid_0's auc: 0.987685\tvalid_0's binary_logloss: 0.0580278\n",
      "[1200]\tvalid_0's auc: 0.987776\tvalid_0's binary_logloss: 0.0577996\n",
      "[1250]\tvalid_0's auc: 0.987892\tvalid_0's binary_logloss: 0.0575185\n",
      "[1300]\tvalid_0's auc: 0.987997\tvalid_0's binary_logloss: 0.0572931\n",
      "[1350]\tvalid_0's auc: 0.988104\tvalid_0's binary_logloss: 0.0570721\n",
      "[1400]\tvalid_0's auc: 0.988193\tvalid_0's binary_logloss: 0.0568643\n",
      "[1450]\tvalid_0's auc: 0.988281\tvalid_0's binary_logloss: 0.0566482\n",
      "[1500]\tvalid_0's auc: 0.988368\tvalid_0's binary_logloss: 0.0564168\n",
      "[1550]\tvalid_0's auc: 0.988443\tvalid_0's binary_logloss: 0.0562124\n",
      "[1600]\tvalid_0's auc: 0.988534\tvalid_0's binary_logloss: 0.0559777\n",
      "=== fold_idx 3 ===\n",
      "[50]\tvalid_0's auc: 0.981803\tvalid_0's binary_logloss: 0.0699318\n",
      "[100]\tvalid_0's auc: 0.983282\tvalid_0's binary_logloss: 0.0672954\n",
      "[150]\tvalid_0's auc: 0.983872\tvalid_0's binary_logloss: 0.0661386\n",
      "[200]\tvalid_0's auc: 0.984344\tvalid_0's binary_logloss: 0.0652247\n",
      "[250]\tvalid_0's auc: 0.984696\tvalid_0's binary_logloss: 0.0645216\n",
      "[300]\tvalid_0's auc: 0.984981\tvalid_0's binary_logloss: 0.0639102\n",
      "[350]\tvalid_0's auc: 0.985253\tvalid_0's binary_logloss: 0.0633078\n",
      "[400]\tvalid_0's auc: 0.985622\tvalid_0's binary_logloss: 0.0626273\n",
      "[450]\tvalid_0's auc: 0.985795\tvalid_0's binary_logloss: 0.062232\n",
      "[500]\tvalid_0's auc: 0.986036\tvalid_0's binary_logloss: 0.0617531\n",
      "[550]\tvalid_0's auc: 0.986225\tvalid_0's binary_logloss: 0.061328\n",
      "[600]\tvalid_0's auc: 0.986414\tvalid_0's binary_logloss: 0.0609126\n",
      "[650]\tvalid_0's auc: 0.986621\tvalid_0's binary_logloss: 0.0605173\n",
      "[700]\tvalid_0's auc: 0.986778\tvalid_0's binary_logloss: 0.0601704\n",
      "[750]\tvalid_0's auc: 0.986904\tvalid_0's binary_logloss: 0.0598934\n",
      "[800]\tvalid_0's auc: 0.98701\tvalid_0's binary_logloss: 0.0596318\n",
      "[850]\tvalid_0's auc: 0.987167\tvalid_0's binary_logloss: 0.0592895\n",
      "[900]\tvalid_0's auc: 0.987284\tvalid_0's binary_logloss: 0.0590182\n",
      "[950]\tvalid_0's auc: 0.987451\tvalid_0's binary_logloss: 0.0586844\n",
      "[1000]\tvalid_0's auc: 0.987571\tvalid_0's binary_logloss: 0.0583884\n",
      "[1050]\tvalid_0's auc: 0.987675\tvalid_0's binary_logloss: 0.0581615\n",
      "[1100]\tvalid_0's auc: 0.987761\tvalid_0's binary_logloss: 0.0579513\n",
      "[1150]\tvalid_0's auc: 0.987874\tvalid_0's binary_logloss: 0.0576958\n",
      "[1200]\tvalid_0's auc: 0.98797\tvalid_0's binary_logloss: 0.0574616\n",
      "[1250]\tvalid_0's auc: 0.988065\tvalid_0's binary_logloss: 0.0572287\n",
      "[1300]\tvalid_0's auc: 0.988178\tvalid_0's binary_logloss: 0.0569953\n",
      "[1350]\tvalid_0's auc: 0.988277\tvalid_0's binary_logloss: 0.0567625\n",
      "[1400]\tvalid_0's auc: 0.988363\tvalid_0's binary_logloss: 0.0565678\n",
      "[1450]\tvalid_0's auc: 0.988449\tvalid_0's binary_logloss: 0.0563582\n",
      "[1500]\tvalid_0's auc: 0.988549\tvalid_0's binary_logloss: 0.0561326\n",
      "[1550]\tvalid_0's auc: 0.988645\tvalid_0's binary_logloss: 0.0559037\n",
      "[1600]\tvalid_0's auc: 0.988731\tvalid_0's binary_logloss: 0.0556926\n",
      "=== fold_idx 4 ===\n",
      "[50]\tvalid_0's auc: 0.981497\tvalid_0's binary_logloss: 0.0700939\n",
      "[100]\tvalid_0's auc: 0.98292\tvalid_0's binary_logloss: 0.0675095\n",
      "[150]\tvalid_0's auc: 0.98351\tvalid_0's binary_logloss: 0.0663518\n",
      "[200]\tvalid_0's auc: 0.984141\tvalid_0's binary_logloss: 0.065309\n",
      "[250]\tvalid_0's auc: 0.984431\tvalid_0's binary_logloss: 0.0647015\n",
      "[300]\tvalid_0's auc: 0.984725\tvalid_0's binary_logloss: 0.0640705\n",
      "[350]\tvalid_0's auc: 0.985001\tvalid_0's binary_logloss: 0.0634787\n",
      "[400]\tvalid_0's auc: 0.985259\tvalid_0's binary_logloss: 0.062971\n",
      "[450]\tvalid_0's auc: 0.985512\tvalid_0's binary_logloss: 0.0624828\n",
      "[500]\tvalid_0's auc: 0.985716\tvalid_0's binary_logloss: 0.0620609\n",
      "[550]\tvalid_0's auc: 0.985953\tvalid_0's binary_logloss: 0.0616174\n",
      "[600]\tvalid_0's auc: 0.986144\tvalid_0's binary_logloss: 0.0612225\n",
      "[650]\tvalid_0's auc: 0.986291\tvalid_0's binary_logloss: 0.0608376\n",
      "[700]\tvalid_0's auc: 0.986433\tvalid_0's binary_logloss: 0.0605717\n",
      "[750]\tvalid_0's auc: 0.986592\tvalid_0's binary_logloss: 0.060234\n",
      "[800]\tvalid_0's auc: 0.986736\tvalid_0's binary_logloss: 0.0599597\n",
      "[850]\tvalid_0's auc: 0.98688\tvalid_0's binary_logloss: 0.0596442\n",
      "[900]\tvalid_0's auc: 0.986994\tvalid_0's binary_logloss: 0.059371\n",
      "[950]\tvalid_0's auc: 0.98714\tvalid_0's binary_logloss: 0.0590693\n",
      "[1000]\tvalid_0's auc: 0.987251\tvalid_0's binary_logloss: 0.0588281\n",
      "[1050]\tvalid_0's auc: 0.987363\tvalid_0's binary_logloss: 0.0585665\n",
      "[1100]\tvalid_0's auc: 0.987496\tvalid_0's binary_logloss: 0.0582303\n",
      "[1150]\tvalid_0's auc: 0.987606\tvalid_0's binary_logloss: 0.057985\n",
      "[1200]\tvalid_0's auc: 0.987708\tvalid_0's binary_logloss: 0.0577544\n",
      "[1250]\tvalid_0's auc: 0.987827\tvalid_0's binary_logloss: 0.0574944\n",
      "[1300]\tvalid_0's auc: 0.987934\tvalid_0's binary_logloss: 0.0572731\n",
      "[1350]\tvalid_0's auc: 0.988013\tvalid_0's binary_logloss: 0.0570775\n",
      "[1400]\tvalid_0's auc: 0.988111\tvalid_0's binary_logloss: 0.0568504\n",
      "[1450]\tvalid_0's auc: 0.988206\tvalid_0's binary_logloss: 0.0566176\n",
      "[1500]\tvalid_0's auc: 0.988287\tvalid_0's binary_logloss: 0.056405\n",
      "[1550]\tvalid_0's auc: 0.988377\tvalid_0's binary_logloss: 0.0561858\n",
      "[1600]\tvalid_0's auc: 0.988441\tvalid_0's binary_logloss: 0.055982\n"
     ]
    }
   ],
   "source": [
    "params = {\n",
    "    'objective': \"binary\",\n",
    "    'learning_rate': 0.2,\n",
    "    'reg_alpha': 0.1,\n",
    "    'reg_lambda': 0.1,\n",
    "    'random_state': seed,\n",
    "\n",
    "    'max_depth': 8,   \n",
    "    'num_leaves': 32, \n",
    "    'n_estimators': 1600, \n",
    "    \"colsample_bytree\": 0.9,\n",
    "}\n",
    "\n",
    "for fold_idx in range(5):\n",
    "    print(f'=== fold_idx {fold_idx} ===')\n",
    "    \n",
    "    s, e = fold_idx *len_valid, (fold_idx+1) *len_valid\n",
    "\n",
    "    valid_idx = idx_full[s: e]\n",
    "    train_idx = np.delete(idx_full, np.arange(s, e))\n",
    "\n",
    "    model = lgb.LGBMClassifier(**params)\n",
    "    model.fit(\n",
    "        data[train_idx, 1:], data[train_idx, 0], \n",
    "        eval_set=[(data[valid_idx, 1:], data[valid_idx, 0])],  \n",
    "        early_stopping_rounds=20, \n",
    "        eval_metric='auc', \n",
    "        verbose=50\n",
    "    )\n",
    "    \n",
    "    with open(f'lgb{fold_idx}.pkl', 'wb') as handle:\n",
    "        pickle.dump(model, handle, protocol=pickle.HIGHEST_PROTOCOL)\n",
    "    \n",
    "    del model\n",
    "    gc.collect()"
   ]
  },
  {
   "cell_type": "code",
   "execution_count": 8,
   "id": "ac96d60b",
   "metadata": {
    "execution": {
     "iopub.execute_input": "2022-05-30T06:26:58.995692Z",
     "iopub.status.busy": "2022-05-30T06:26:58.995244Z",
     "iopub.status.idle": "2022-05-30T06:26:59.205880Z",
     "shell.execute_reply": "2022-05-30T06:26:59.204819Z"
    },
    "papermill": {
     "duration": 0.229204,
     "end_time": "2022-05-30T06:26:59.209217",
     "exception": false,
     "start_time": "2022-05-30T06:26:58.980013",
     "status": "completed"
    },
    "tags": []
   },
   "outputs": [],
   "source": [
    "models = []\n",
    "for i in range(5):\n",
    "    with open(f'lgb{i}.pkl', 'rb') as f:\n",
    "        model = pickle.load(f)\n",
    "    models.append(model)"
   ]
  },
  {
   "cell_type": "code",
   "execution_count": 9,
   "id": "1ef281ba",
   "metadata": {
    "execution": {
     "iopub.execute_input": "2022-05-30T06:26:59.239483Z",
     "iopub.status.busy": "2022-05-30T06:26:59.239108Z",
     "iopub.status.idle": "2022-05-30T06:31:21.100850Z",
     "shell.execute_reply": "2022-05-30T06:31:21.099715Z"
    },
    "papermill": {
     "duration": 261.877896,
     "end_time": "2022-05-30T06:31:21.103530",
     "exception": false,
     "start_time": "2022-05-30T06:26:59.225634",
     "status": "completed"
    },
    "tags": []
   },
   "outputs": [
    {
     "name": "stdout",
     "output_type": "stream",
     "text": [
      "=== fold_idx 0 ===\n",
      "=== fold_idx 1 ===\n",
      "=== fold_idx 2 ===\n",
      "=== fold_idx 3 ===\n",
      "=== fold_idx 4 ===\n"
     ]
    }
   ],
   "source": [
    "preds = []\n",
    "valids = []\n",
    "for fold_idx in range(5):\n",
    "    print(f'=== fold_idx {fold_idx} ===')\n",
    "    \n",
    "    s, e = fold_idx *len_valid, (fold_idx+1) *len_valid\n",
    "\n",
    "    valid_idx = idx_full[s: e]\n",
    "    train_idx = np.delete(idx_full, np.arange(s, e))\n",
    "    valid_x, valid_y = data[valid_idx, 1:], data[valid_idx, 0]\n",
    "    pred = models[fold_idx].predict_proba(valid_x)[:, 1]\n",
    "    \n",
    "    valids.append(valid_y)\n",
    "    preds.append(pred)"
   ]
  },
  {
   "cell_type": "code",
   "execution_count": 10,
   "id": "db3ab4c7",
   "metadata": {
    "execution": {
     "iopub.execute_input": "2022-05-30T06:31:21.130613Z",
     "iopub.status.busy": "2022-05-30T06:31:21.129891Z",
     "iopub.status.idle": "2022-05-30T06:31:50.583048Z",
     "shell.execute_reply": "2022-05-30T06:31:50.581775Z"
    },
    "papermill": {
     "duration": 29.469377,
     "end_time": "2022-05-30T06:31:50.585711",
     "exception": false,
     "start_time": "2022-05-30T06:31:21.116334",
     "status": "completed"
    },
    "tags": []
   },
   "outputs": [
    {
     "name": "stdout",
     "output_type": "stream",
     "text": [
      "fold0, best_f1: 0.8259396057561195, best_th: 0.4\n",
      "fold1, best_f1: 0.8262430479235355, best_th: 0.4\n",
      "fold2, best_f1: 0.8261678503551066, best_th: 0.4\n",
      "fold3, best_f1: 0.8248032287909466, best_th: 0.4\n",
      "fold4, best_f1: 0.8257143240955925, best_th: 0.4\n"
     ]
    }
   ],
   "source": [
    "# def analysis(valid_y, pred, threshold):\n",
    "#     print(f'=== th {threshold} ===')\n",
    "#     _pred = pred > threshold\n",
    "#     print(f'f1: {f1_score(valid_y, _pred):.6f}')\n",
    "#     print(f'precision: {precision_score(valid_y, _pred)}')\n",
    "#     print(f'recall: {recall_score(valid_y, _pred)}')\n",
    "#     print(f'acc: {accuracy_score(valid_y, _pred)}')\n",
    "\n",
    "for i in range(5):\n",
    "    best_f1 = -1\n",
    "    best_th = -1\n",
    "    for threshold in [0.1, 0.2, 0.3, 0.4, 0.5, 0.6, 0.7, 0.8, 0.9]:\n",
    "        score = f1_score(valids[i], preds[i] > threshold)\n",
    "        if score > best_f1:\n",
    "            best_f1 = score\n",
    "            best_th = threshold\n",
    "    print(f'fold{i}, best_f1: {best_f1}, best_th: {best_th}')"
   ]
  },
  {
   "cell_type": "code",
   "execution_count": 11,
   "id": "8ce58db7",
   "metadata": {
    "execution": {
     "iopub.execute_input": "2022-05-30T06:31:50.613111Z",
     "iopub.status.busy": "2022-05-30T06:31:50.612558Z",
     "iopub.status.idle": "2022-05-30T06:31:50.615650Z",
     "shell.execute_reply": "2022-05-30T06:31:50.615030Z"
    },
    "papermill": {
     "duration": 0.018435,
     "end_time": "2022-05-30T06:31:50.617271",
     "exception": false,
     "start_time": "2022-05-30T06:31:50.598836",
     "status": "completed"
    },
    "tags": []
   },
   "outputs": [],
   "source": [
    "# with open('../input/my-training-data/train_data1.csv', 'r') as f:\n",
    "#     fl = f.readline()\n",
    "#     columns = [s.strip() for s in fl.split(',')]\n",
    "# columns"
   ]
  },
  {
   "cell_type": "code",
   "execution_count": null,
   "id": "943b56b4",
   "metadata": {
    "papermill": {
     "duration": 0.011819,
     "end_time": "2022-05-30T06:31:50.641571",
     "exception": false,
     "start_time": "2022-05-30T06:31:50.629752",
     "status": "completed"
    },
    "tags": []
   },
   "outputs": [],
   "source": []
  },
  {
   "cell_type": "code",
   "execution_count": null,
   "id": "50a22aba",
   "metadata": {
    "papermill": {
     "duration": 0.011842,
     "end_time": "2022-05-30T06:31:50.665648",
     "exception": false,
     "start_time": "2022-05-30T06:31:50.653806",
     "status": "completed"
    },
    "tags": []
   },
   "outputs": [],
   "source": []
  },
  {
   "cell_type": "code",
   "execution_count": null,
   "id": "bfb3f668",
   "metadata": {
    "papermill": {
     "duration": 0.012157,
     "end_time": "2022-05-30T06:31:50.689944",
     "exception": false,
     "start_time": "2022-05-30T06:31:50.677787",
     "status": "completed"
    },
    "tags": []
   },
   "outputs": [],
   "source": []
  },
  {
   "cell_type": "code",
   "execution_count": null,
   "id": "21a7aad6",
   "metadata": {
    "papermill": {
     "duration": 0.01189,
     "end_time": "2022-05-30T06:31:50.714251",
     "exception": false,
     "start_time": "2022-05-30T06:31:50.702361",
     "status": "completed"
    },
    "tags": []
   },
   "outputs": [],
   "source": []
  }
 ],
 "metadata": {
  "kernelspec": {
   "display_name": "Python 3",
   "language": "python",
   "name": "python3"
  },
  "language_info": {
   "codemirror_mode": {
    "name": "ipython",
    "version": 3
   },
   "file_extension": ".py",
   "mimetype": "text/x-python",
   "name": "python",
   "nbconvert_exporter": "python",
   "pygments_lexer": "ipython3",
   "version": "3.7.12"
  },
  "papermill": {
   "default_parameters": {},
   "duration": 4719.542122,
   "end_time": "2022-05-30T06:31:51.865232",
   "environment_variables": {},
   "exception": null,
   "input_path": "__notebook__.ipynb",
   "output_path": "__notebook__.ipynb",
   "parameters": {},
   "start_time": "2022-05-30T05:13:12.323110",
   "version": "2.3.4"
  }
 },
 "nbformat": 4,
 "nbformat_minor": 5
}
