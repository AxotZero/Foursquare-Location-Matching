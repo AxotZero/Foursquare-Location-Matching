{
 "cells": [
  {
   "cell_type": "code",
   "execution_count": 1,
   "id": "cd7e84a4",
   "metadata": {
    "execution": {
     "iopub.execute_input": "2022-05-30T10:40:46.210770Z",
     "iopub.status.busy": "2022-05-30T10:40:46.210318Z",
     "iopub.status.idle": "2022-05-30T10:40:48.465620Z",
     "shell.execute_reply": "2022-05-30T10:40:48.464641Z"
    },
    "papermill": {
     "duration": 2.281126,
     "end_time": "2022-05-30T10:40:48.468506",
     "exception": false,
     "start_time": "2022-05-30T10:40:46.187380",
     "status": "completed"
    },
    "tags": []
   },
   "outputs": [
    {
     "data": {
      "text/html": [
       "<style type='text/css'>\n",
       ".datatable table.frame { margin-bottom: 0; }\n",
       ".datatable table.frame thead { border-bottom: none; }\n",
       ".datatable table.frame tr.coltypes td {  color: #FFFFFF;  line-height: 6px;  padding: 0 0.5em;}\n",
       ".datatable .bool    { background: #DDDD99; }\n",
       ".datatable .object  { background: #565656; }\n",
       ".datatable .int     { background: #5D9E5D; }\n",
       ".datatable .float   { background: #4040CC; }\n",
       ".datatable .str     { background: #CC4040; }\n",
       ".datatable .time    { background: #40CC40; }\n",
       ".datatable .row_index {  background: var(--jp-border-color3);  border-right: 1px solid var(--jp-border-color0);  color: var(--jp-ui-font-color3);  font-size: 9px;}\n",
       ".datatable .frame tbody td { text-align: left; }\n",
       ".datatable .frame tr.coltypes .row_index {  background: var(--jp-border-color0);}\n",
       ".datatable th:nth-child(2) { padding-left: 12px; }\n",
       ".datatable .hellipsis {  color: var(--jp-cell-editor-border-color);}\n",
       ".datatable .vellipsis {  background: var(--jp-layout-color0);  color: var(--jp-cell-editor-border-color);}\n",
       ".datatable .na {  color: var(--jp-cell-editor-border-color);  font-size: 80%;}\n",
       ".datatable .sp {  opacity: 0.25;}\n",
       ".datatable .footer { font-size: 9px; }\n",
       ".datatable .frame_dimensions {  background: var(--jp-border-color3);  border-top: 1px solid var(--jp-border-color0);  color: var(--jp-ui-font-color3);  display: inline-block;  opacity: 0.6;  padding: 1px 10px 1px 5px;}\n",
       "</style>\n"
      ],
      "text/plain": [
       "<IPython.core.display.HTML object>"
      ]
     },
     "metadata": {},
     "output_type": "display_data"
    }
   ],
   "source": [
    "## Imports\n",
    "import warnings\n",
    "warnings.filterwarnings('ignore')\n",
    "\n",
    "import os\n",
    "import gc\n",
    "import time\n",
    "import random\n",
    "import Levenshtein\n",
    "import difflib\n",
    "import multiprocessing\n",
    "import pandas as pd\n",
    "import numpy as np\n",
    "import lightgbm as lgb\n",
    "from tqdm import tqdm\n",
    "from sklearn.neighbors import KNeighborsRegressor\n",
    "from sklearn.feature_extraction.text import TfidfVectorizer\n",
    "from sklearn.neighbors import NearestNeighbors\n",
    "\n",
    "import pickle"
   ]
  },
  {
   "cell_type": "code",
   "execution_count": 2,
   "id": "9a0f41e0",
   "metadata": {
    "execution": {
     "iopub.execute_input": "2022-05-30T10:40:48.503797Z",
     "iopub.status.busy": "2022-05-30T10:40:48.503183Z",
     "iopub.status.idle": "2022-05-30T10:40:48.518068Z",
     "shell.execute_reply": "2022-05-30T10:40:48.517430Z"
    },
    "papermill": {
     "duration": 0.034558,
     "end_time": "2022-05-30T10:40:48.520322",
     "exception": false,
     "start_time": "2022-05-30T10:40:48.485764",
     "status": "completed"
    },
    "tags": []
   },
   "outputs": [],
   "source": [
    "TRAIN_FEATURES = [\n",
    " 'kdist',\n",
    " 'kneighbors',\n",
    " 'kdist_country',\n",
    " 'kneighbors_country',\n",
    " 'name_sim',\n",
    " 'name_gesh',\n",
    " 'name_leven',\n",
    " 'name_jaro',\n",
    " 'name_lcs',\n",
    " 'name_len_diff',\n",
    " 'name_nleven',\n",
    " 'name_nlcsk',\n",
    " 'name_nlcs',\n",
    " 'address_sim',\n",
    " 'address_gesh',\n",
    " 'address_leven',\n",
    " 'address_jaro',\n",
    " 'address_lcs',\n",
    " 'address_len_diff',\n",
    " 'address_nleven',\n",
    " 'address_nlcsk',\n",
    " 'address_nlcs',\n",
    " 'city_gesh',\n",
    " 'city_leven',\n",
    " 'city_jaro',\n",
    " 'city_lcs',\n",
    " 'city_len_diff',\n",
    " 'city_nleven',\n",
    " 'city_nlcsk',\n",
    " 'city_nlcs',\n",
    " 'state_sim',\n",
    " 'state_gesh',\n",
    " 'state_leven',\n",
    " 'state_jaro',\n",
    " 'state_lcs',\n",
    " 'state_len_diff',\n",
    " 'state_nleven',\n",
    " 'state_nlcsk',\n",
    " 'state_nlcs',\n",
    " 'zip_gesh',\n",
    " 'zip_leven',\n",
    " 'zip_jaro',\n",
    " 'zip_lcs',\n",
    " 'url_sim',\n",
    " 'url_gesh',\n",
    " 'url_leven',\n",
    " 'url_jaro',\n",
    " 'url_lcs',\n",
    " 'url_len_diff',\n",
    " 'url_nleven',\n",
    " 'url_nlcsk',\n",
    " 'url_nlcs',\n",
    " 'phone_gesh',\n",
    " 'phone_leven',\n",
    " 'phone_jaro',\n",
    " 'phone_lcs',\n",
    " 'categories_sim',\n",
    " 'categories_gesh',\n",
    " 'categories_leven',\n",
    " 'categories_jaro',\n",
    " 'categories_lcs',\n",
    " 'categories_len_diff',\n",
    " 'categories_nleven',\n",
    " 'categories_nlcsk',\n",
    " 'categories_nlcs',\n",
    " 'country_sim',\n",
    " 'country_gesh',\n",
    " 'country_leven',\n",
    " 'country_jaro',\n",
    " 'country_lcs',\n",
    " 'country_len_diff',\n",
    " 'country_nleven',\n",
    " 'country_nlcsk',\n",
    " 'country_nlcs']\n",
    "\n",
    "TRAIN_FEATURES2 = [\n",
    " 'kdist',\n",
    " 'kneighbors',\n",
    " 'kdist_country',\n",
    " 'kneighbors_country',\n",
    " 'name_sim',\n",
    " 'name_gesh',\n",
    " 'name_leven',\n",
    " 'name_jaro',\n",
    " 'name_lcs',\n",
    " 'name_len_diff',\n",
    " 'name_nleven',\n",
    " 'name_nlcsk',\n",
    " 'name_nlcs',\n",
    " 'address_sim',\n",
    " 'address_gesh',\n",
    " 'address_leven',\n",
    " 'address_jaro',\n",
    " 'address_lcs',\n",
    " 'address_len_diff',\n",
    " 'address_nleven',\n",
    " 'address_nlcsk',\n",
    " 'address_nlcs',\n",
    " 'city_gesh',\n",
    " 'city_leven',\n",
    " 'city_jaro',\n",
    " 'city_lcs',\n",
    " 'city_len_diff',\n",
    " 'city_nleven',\n",
    " 'city_nlcsk',\n",
    " 'city_nlcs',\n",
    " 'state_sim',\n",
    " 'state_gesh',\n",
    " 'state_leven',\n",
    " 'state_jaro',\n",
    " 'state_lcs',\n",
    " 'state_len_diff',\n",
    " 'state_nleven',\n",
    " 'state_nlcsk',\n",
    " 'state_nlcs',\n",
    " 'zip_gesh',\n",
    " 'zip_leven',\n",
    " 'zip_jaro',\n",
    " 'zip_lcs',\n",
    " 'url_sim',\n",
    " 'url_gesh',\n",
    " 'url_leven',\n",
    " 'url_jaro',\n",
    " 'url_lcs',\n",
    " 'url_len_diff',\n",
    " 'url_nleven',\n",
    " 'url_nlcsk',\n",
    " 'url_nlcs',\n",
    " 'phone_gesh',\n",
    " 'phone_leven',\n",
    " 'phone_jaro',\n",
    " 'phone_lcs',\n",
    " 'categories_sim',\n",
    " 'categories_gesh',\n",
    " 'categories_leven',\n",
    " 'categories_jaro',\n",
    " 'categories_lcs',\n",
    " 'categories_len_diff',\n",
    " 'categories_nleven',\n",
    " 'categories_nlcsk',\n",
    " 'categories_nlcs',\n",
    " 'country_sim',\n",
    " 'country_gesh',\n",
    " 'country_leven',\n",
    " 'country_jaro',\n",
    " 'country_lcs',\n",
    " 'country_len_diff',\n",
    " 'country_nleven',\n",
    " 'country_nlcsk',\n",
    " 'country_nlcs',\n",
    " 'kdist_diff',\n",
    " 'kneighbors_mean']"
   ]
  },
  {
   "cell_type": "code",
   "execution_count": 3,
   "id": "d9b91adb",
   "metadata": {
    "execution": {
     "iopub.execute_input": "2022-05-30T10:40:48.553634Z",
     "iopub.status.busy": "2022-05-30T10:40:48.553029Z",
     "iopub.status.idle": "2022-05-30T10:40:48.559761Z",
     "shell.execute_reply": "2022-05-30T10:40:48.559188Z"
    },
    "papermill": {
     "duration": 0.026072,
     "end_time": "2022-05-30T10:40:48.561848",
     "exception": false,
     "start_time": "2022-05-30T10:40:48.535776",
     "status": "completed"
    },
    "tags": []
   },
   "outputs": [],
   "source": [
    "## Parameters\n",
    "NUM_FOLD = 3\n",
    "NUM_NEIGHBOR = 21\n",
    "SEED = 2626\n",
    "THRESHOLD = 0.5\n",
    "NUM_SPLIT = 6\n",
    "feat_columns = ['name', 'address', 'city', \n",
    "            'state', 'zip', 'url', \n",
    "           'phone', 'categories', 'country']\n",
    "vec_columns = ['name', 'categories', 'address', \n",
    "               'state', 'url', 'country']\n",
    "\n",
    "def seed_everything(seed):\n",
    "    random.seed(seed)\n",
    "    np.random.seed(seed)\n",
    "    os.environ['PYTHONHASHSEED'] = str(seed)\n",
    "    \n",
    "seed_everything(SEED)"
   ]
  },
  {
   "cell_type": "code",
   "execution_count": 4,
   "id": "05c20605",
   "metadata": {
    "execution": {
     "iopub.execute_input": "2022-05-30T10:40:48.595208Z",
     "iopub.status.busy": "2022-05-30T10:40:48.594643Z",
     "iopub.status.idle": "2022-05-30T10:40:49.718501Z",
     "shell.execute_reply": "2022-05-30T10:40:49.717521Z"
    },
    "papermill": {
     "duration": 1.143587,
     "end_time": "2022-05-30T10:40:49.720921",
     "exception": false,
     "start_time": "2022-05-30T10:40:48.577334",
     "status": "completed"
    },
    "tags": []
   },
   "outputs": [],
   "source": [
    "%load_ext Cython"
   ]
  },
  {
   "cell_type": "code",
   "execution_count": 5,
   "id": "c4c12850",
   "metadata": {
    "execution": {
     "iopub.execute_input": "2022-05-30T10:40:49.754208Z",
     "iopub.status.busy": "2022-05-30T10:40:49.753862Z",
     "iopub.status.idle": "2022-05-30T10:40:51.179735Z",
     "shell.execute_reply": "2022-05-30T10:40:51.178415Z"
    },
    "papermill": {
     "duration": 1.445423,
     "end_time": "2022-05-30T10:40:51.182358",
     "exception": false,
     "start_time": "2022-05-30T10:40:49.736935",
     "status": "completed"
    },
    "tags": []
   },
   "outputs": [],
   "source": [
    "%%cython\n",
    "def LCS(str S, str T):\n",
    "    cdef int i, j\n",
    "    cdef list dp = [[0] * (len(T) + 1) for _ in range(len(S) + 1)]\n",
    "    for i in range(len(S)):\n",
    "        for j in range(len(T)):\n",
    "            dp[i + 1][j + 1] = max(dp[i][j] + (S[i] == T[j]), dp[i + 1][j], dp[i][j + 1], dp[i + 1][j + 1])\n",
    "    return dp[len(S)][len(T)]"
   ]
  },
  {
   "cell_type": "code",
   "execution_count": 6,
   "id": "71bfabd0",
   "metadata": {
    "execution": {
     "iopub.execute_input": "2022-05-30T10:40:51.217020Z",
     "iopub.status.busy": "2022-05-30T10:40:51.216547Z",
     "iopub.status.idle": "2022-05-30T10:40:51.224044Z",
     "shell.execute_reply": "2022-05-30T10:40:51.223390Z"
    },
    "papermill": {
     "duration": 0.027701,
     "end_time": "2022-05-30T10:40:51.226057",
     "exception": false,
     "start_time": "2022-05-30T10:40:51.198356",
     "status": "completed"
    },
    "tags": []
   },
   "outputs": [],
   "source": [
    "def post_process(df):\n",
    "    id2match = dict(zip(df['id'].values, df['matches'].str.split()))\n",
    "\n",
    "    for base, match in df[['id', 'matches']].values:\n",
    "        match = match.split()\n",
    "        if len(match) == 1:        \n",
    "            continue\n",
    "\n",
    "        for m in match:\n",
    "            if base not in id2match[m]:\n",
    "                id2match[m].append(base)\n",
    "    df['matches'] = df['id'].map(id2match).map(' '.join)\n",
    "    return df "
   ]
  },
  {
   "cell_type": "code",
   "execution_count": 7,
   "id": "b1f104fa",
   "metadata": {
    "execution": {
     "iopub.execute_input": "2022-05-30T10:40:51.259813Z",
     "iopub.status.busy": "2022-05-30T10:40:51.259297Z",
     "iopub.status.idle": "2022-05-30T10:40:51.273448Z",
     "shell.execute_reply": "2022-05-30T10:40:51.272527Z"
    },
    "papermill": {
     "duration": 0.033657,
     "end_time": "2022-05-30T10:40:51.275946",
     "exception": false,
     "start_time": "2022-05-30T10:40:51.242289",
     "status": "completed"
    },
    "tags": []
   },
   "outputs": [],
   "source": [
    "def recall_knn(df, Neighbors = 10):\n",
    "    print('Start knn grouped by country')\n",
    "    train_df_country = []\n",
    "    for country, country_df in tqdm(df.groupby('country')):\n",
    "        country_df = country_df.reset_index(drop = True)\n",
    "\n",
    "        neighbors = min(len(country_df), Neighbors)\n",
    "        knn = KNeighborsRegressor(n_neighbors = neighbors,\n",
    "                                    metric = 'haversine',\n",
    "                                    n_jobs = -1)\n",
    "        knn.fit(country_df[['latitude','longitude']], country_df.index)\n",
    "        dists, nears = knn.kneighbors(country_df[['latitude', 'longitude']], \n",
    "                                        return_distance = True)\n",
    "\n",
    "        for k in range(neighbors):            \n",
    "            cur_df = country_df[['id']]\n",
    "            cur_df['match_id'] = country_df['id'].values[nears[:, k]]\n",
    "            cur_df['kdist_country'] = dists[:, k]\n",
    "            cur_df['kneighbors_country'] = k\n",
    "            \n",
    "            train_df_country.append(cur_df)\n",
    "    train_df_country = pd.concat(train_df_country)\n",
    "    \n",
    "    print('Start knn')\n",
    "    train_df = []\n",
    "    knn = NearestNeighbors(n_neighbors = Neighbors)\n",
    "    knn.fit(df[['latitude','longitude']], df.index)\n",
    "    dists, nears = knn.kneighbors(df[['latitude','longitude']])\n",
    "    \n",
    "    for k in range(Neighbors):            \n",
    "        cur_df = df[['id']]\n",
    "        cur_df['match_id'] = df['id'].values[nears[:, k]]\n",
    "        cur_df['kdist'] = dists[:, k]\n",
    "        cur_df['kneighbors'] = k\n",
    "        train_df.append(cur_df)\n",
    "    \n",
    "    train_df = pd.concat(train_df)\n",
    "    train_df = train_df.merge(train_df_country,\n",
    "                                 on = ['id', 'match_id'],\n",
    "                                 how = 'outer')\n",
    "    del train_df_country\n",
    "    \n",
    "    return train_df"
   ]
  },
  {
   "cell_type": "code",
   "execution_count": 8,
   "id": "8ef5a109",
   "metadata": {
    "execution": {
     "iopub.execute_input": "2022-05-30T10:40:51.309327Z",
     "iopub.status.busy": "2022-05-30T10:40:51.309003Z",
     "iopub.status.idle": "2022-05-30T10:40:51.327520Z",
     "shell.execute_reply": "2022-05-30T10:40:51.326579Z"
    },
    "papermill": {
     "duration": 0.037874,
     "end_time": "2022-05-30T10:40:51.329445",
     "exception": false,
     "start_time": "2022-05-30T10:40:51.291571",
     "status": "completed"
    },
    "tags": []
   },
   "outputs": [],
   "source": [
    "def unidecode_w_sort(s):\n",
    "    if s == NAN_STR:\n",
    "        return NAN_STR\n",
    "    s = unidecode(s)\n",
    "    s = ' '.join(sorted(s.strip().split(' '))).lower()\n",
    "    return s\n",
    "\n",
    "def add_features(df):    \n",
    "    for col in tqdm(feat_columns):       \n",
    "        if col in vec_columns:\n",
    "            tv_fit = tfidf_d[col]\n",
    "            indexs = [id2index_d[i] for i in df['id']]\n",
    "            match_indexs = [id2index_d[i] for i in df['match_id']]                    \n",
    "            df[f'{col}_sim'] = np.array(tv_fit[indexs].multiply(tv_fit[match_indexs]).sum(axis = 1)).ravel()\n",
    "        \n",
    "        col_values = data.loc[df['id']][col].values.astype(str)\n",
    "        matcol_values = data.loc[df['match_id']][col].values.astype(str)\n",
    "        \n",
    "        geshs = []\n",
    "        levens = []\n",
    "        jaros = []\n",
    "        lcss = []\n",
    "        for s, match_s in zip(col_values, matcol_values):\n",
    "            if s != NAN_STR and match_s != NAN_STR:                    \n",
    "                geshs.append(difflib.SequenceMatcher(None, s, match_s).ratio())\n",
    "                levens.append(Levenshtein.distance(s, match_s))\n",
    "                jaros.append(Levenshtein.jaro_winkler(s, match_s))\n",
    "                lcss.append(LCS(str(s), str(match_s)))\n",
    "            else:\n",
    "                geshs.append(np.nan)\n",
    "                levens.append(np.nan)\n",
    "                jaros.append(np.nan)\n",
    "                lcss.append(np.nan)\n",
    "        \n",
    "        df[f'{col}_gesh'] = geshs\n",
    "        df[f'{col}_leven'] = levens\n",
    "        df[f'{col}_jaro'] = jaros\n",
    "        df[f'{col}_lcs'] = lcss\n",
    "        \n",
    "        if col not in ['phone', 'zip']:\n",
    "            df[f'{col}_len'] = list(map(len, col_values))\n",
    "            df[f'match_{col}_len'] = list(map(len, matcol_values)) \n",
    "            df[f'{col}_len_diff'] = np.abs(df[f'{col}_len'] - df[f'match_{col}_len'])\n",
    "            df[f'{col}_nleven'] = df[f'{col}_leven'] / \\\n",
    "                                    df[[f'{col}_len', f'match_{col}_len']].max(axis = 1)\n",
    "            \n",
    "            df[f'{col}_nlcsk'] = df[f'{col}_lcs'] / df[f'match_{col}_len']\n",
    "            df[f'{col}_nlcs'] = df[f'{col}_lcs'] / df[f'{col}_len']\n",
    "            \n",
    "            df = df.drop(f'{col}_len', axis = 1)\n",
    "            df = df.drop(f'match_{col}_len', axis = 1)\n",
    "            gc.collect()\n",
    "            \n",
    "    return df"
   ]
  },
  {
   "cell_type": "code",
   "execution_count": 9,
   "id": "b3e5ac2a",
   "metadata": {
    "execution": {
     "iopub.execute_input": "2022-05-30T10:40:51.362336Z",
     "iopub.status.busy": "2022-05-30T10:40:51.362031Z",
     "iopub.status.idle": "2022-05-30T10:40:55.173162Z",
     "shell.execute_reply": "2022-05-30T10:40:55.172216Z"
    },
    "papermill": {
     "duration": 3.831564,
     "end_time": "2022-05-30T10:40:55.176478",
     "exception": false,
     "start_time": "2022-05-30T10:40:51.344914",
     "status": "completed"
    },
    "tags": []
   },
   "outputs": [
    {
     "name": "stdout",
     "output_type": "stream",
     "text": [
      "Start knn grouped by country\n"
     ]
    },
    {
     "name": "stderr",
     "output_type": "stream",
     "text": [
      "100%|██████████| 32/32 [00:03<00:00,  8.80it/s]"
     ]
    },
    {
     "name": "stdout",
     "output_type": "stream",
     "text": [
      "Start knn\n",
      "Num of unique id: 100\n",
      "Num of test data: 2260\n",
      "                    id          match_id      kdist  kneighbors  \\\n",
      "540   E_000292dce833cc  E_00014f107dc217   5.024913         5.0   \n",
      "135   E_000288f2046ce3  E_000260dd24cecf   0.750322         1.0   \n",
      "1378  E_0004ea391c9404  E_00053bda88d7d8  10.136039        13.0   \n",
      "1736  E_00028abacfbca0  E_00015cd7e0227f  12.982930        17.0   \n",
      "1225  E_0001a397f67ad5  E_00045931e0bb56  10.238297        12.0   \n",
      "\n",
      "      kdist_country  kneighbors_country  \n",
      "540        1.448241                 5.0  \n",
      "135        0.581366                 1.0  \n",
      "1378       1.711920                17.0  \n",
      "1736       1.484000                 7.0  \n",
      "1225            NaN                 NaN  \n"
     ]
    },
    {
     "name": "stderr",
     "output_type": "stream",
     "text": [
      "\n"
     ]
    }
   ],
   "source": [
    "## Dada process\n",
    "NAN_STR = ''\n",
    "\n",
    "data = pd.read_csv('../input/foursquare-location-matching/test.csv').fillna(NAN_STR)\n",
    "\n",
    "if len(data) < 20:\n",
    "    data = pd.read_csv('../input/foursquare-location-matching/train.csv',\n",
    "                      nrows = 100).fillna(NAN_STR)\n",
    "    data = data.drop('point_of_interest', axis = 1)\n",
    "    \n",
    "id2index_d = dict(zip(data['id'].values, data.index))\n",
    "\n",
    "tfidf_d = {}\n",
    "for col in vec_columns:\n",
    "    tfidf = TfidfVectorizer()\n",
    "    tv_fit = tfidf.fit_transform(data[col].fillna('nan'))\n",
    "    tfidf_d[col] = tv_fit\n",
    "\n",
    "out_df = pd.DataFrame()\n",
    "out_df['id'] = data['id'].unique().tolist()\n",
    "out_df['match_id'] = out_df['id']\n",
    "\n",
    "test_data = recall_knn(data, NUM_NEIGHBOR)\n",
    "data = data.set_index('id')\n",
    "\n",
    "print('Num of unique id: %s' % test_data['id'].nunique())\n",
    "print('Num of test data: %s' % len(test_data))\n",
    "print(test_data.sample(5))"
   ]
  },
  {
   "cell_type": "code",
   "execution_count": 10,
   "id": "a09c38d8",
   "metadata": {
    "execution": {
     "iopub.execute_input": "2022-05-30T10:40:55.238206Z",
     "iopub.status.busy": "2022-05-30T10:40:55.237631Z",
     "iopub.status.idle": "2022-05-30T10:40:58.868363Z",
     "shell.execute_reply": "2022-05-30T10:40:58.867174Z"
    },
    "papermill": {
     "duration": 3.664094,
     "end_time": "2022-05-30T10:40:58.870698",
     "exception": false,
     "start_time": "2022-05-30T10:40:55.206604",
     "status": "completed"
    },
    "tags": []
   },
   "outputs": [
    {
     "name": "stdout",
     "output_type": "stream",
     "text": [
      "18\n",
      "5\n",
      "[0.5, 0.5, 0.5, 1, 1, 1, 1, 1, 0.7, 0.7, 0.7, 0.7, 0.7, 0.7, 0.7, 0.7, 0.7, 0.7, 2, 2, 2, 2, 2]\n"
     ]
    }
   ],
   "source": [
    "paths = []\n",
    "weights = []\n",
    "for i in range(3):\n",
    "    paths.append(f'../input/lgbmversion2/lgb{i}.pkl')\n",
    "    weights.append(0.5)\n",
    "for i in range(5):\n",
    "    paths.append(f'../input/my-lgb-model/lgb{i}.pkl')\n",
    "    weights.append(1)\n",
    "for i in range(5):\n",
    "    paths.append(f'../input/lgbgetall1all008/lgb{i}.pkl')\n",
    "    weights.append(0.7)\n",
    "for i in range(5):\n",
    "    paths.append(f'../input/lgbmnestimators1600/lgb{i}.pkl')\n",
    "    weights.append(0.7)\n",
    "\n",
    "## Model load\n",
    "models = []\n",
    "for path in paths:\n",
    "    with open(path, 'rb') as f:\n",
    "        model = pickle.load(f)\n",
    "    models.append(model)\n",
    "print(len(models))\n",
    "\n",
    "\n",
    "new_paths = []\n",
    "for i in range(5):\n",
    "    new_paths.append(f'../input/lgb-new-train/lgb{i}.pkl')\n",
    "    weights.append(2)\n",
    "\n",
    "new_models = []\n",
    "for path in new_paths:\n",
    "    with open(path, 'rb') as f:\n",
    "        model = pickle.load(f)\n",
    "    new_models.append(model)\n",
    "print(len(new_models))\n",
    "print(weights)"
   ]
  },
  {
   "cell_type": "code",
   "execution_count": 11,
   "id": "b4b79f70",
   "metadata": {
    "execution": {
     "iopub.execute_input": "2022-05-30T10:40:58.932287Z",
     "iopub.status.busy": "2022-05-30T10:40:58.931697Z",
     "iopub.status.idle": "2022-05-30T10:41:09.572307Z",
     "shell.execute_reply": "2022-05-30T10:41:09.571395Z"
    },
    "papermill": {
     "duration": 10.67421,
     "end_time": "2022-05-30T10:41:09.574950",
     "exception": false,
     "start_time": "2022-05-30T10:40:58.900740",
     "status": "completed"
    },
    "tags": []
   },
   "outputs": [
    {
     "name": "stdout",
     "output_type": "stream",
     "text": [
      "Current split: 1\n"
     ]
    },
    {
     "name": "stderr",
     "output_type": "stream",
     "text": [
      "100%|██████████| 9/9 [00:01<00:00,  7.66it/s]\n"
     ]
    },
    {
     "name": "stdout",
     "output_type": "stream",
     "text": [
      "Current split: 2\n"
     ]
    },
    {
     "name": "stderr",
     "output_type": "stream",
     "text": [
      "100%|██████████| 9/9 [00:01<00:00,  7.72it/s]\n"
     ]
    },
    {
     "name": "stdout",
     "output_type": "stream",
     "text": [
      "Current split: 3\n"
     ]
    },
    {
     "name": "stderr",
     "output_type": "stream",
     "text": [
      "100%|██████████| 9/9 [00:01<00:00,  7.74it/s]\n"
     ]
    },
    {
     "name": "stdout",
     "output_type": "stream",
     "text": [
      "Current split: 4\n"
     ]
    },
    {
     "name": "stderr",
     "output_type": "stream",
     "text": [
      "100%|██████████| 9/9 [00:01<00:00,  7.98it/s]\n"
     ]
    },
    {
     "name": "stdout",
     "output_type": "stream",
     "text": [
      "Current split: 5\n"
     ]
    },
    {
     "name": "stderr",
     "output_type": "stream",
     "text": [
      "100%|██████████| 9/9 [00:01<00:00,  7.64it/s]\n"
     ]
    },
    {
     "name": "stdout",
     "output_type": "stream",
     "text": [
      "Current split: 6\n"
     ]
    },
    {
     "name": "stderr",
     "output_type": "stream",
     "text": [
      "100%|██████████| 9/9 [00:01<00:00,  7.54it/s]\n"
     ]
    },
    {
     "name": "stdout",
     "output_type": "stream",
     "text": [
      "2260\n"
     ]
    }
   ],
   "source": [
    "## Prediction\n",
    "count = 0\n",
    "start_row = 0\n",
    "pred_df = pd.DataFrame()\n",
    "unique_id = test_data['id'].unique().tolist()\n",
    "num_split_id = len(unique_id) // NUM_SPLIT\n",
    "for k in range(1, NUM_SPLIT + 1):\n",
    "    print('Current split: %s' % k)\n",
    "    end_row = start_row + num_split_id\n",
    "    if k < NUM_SPLIT:\n",
    "        cur_id = unique_id[start_row : end_row]\n",
    "        cur_data = test_data[test_data['id'].isin(cur_id)]\n",
    "    else:\n",
    "        cur_id = unique_id[start_row: ]\n",
    "        cur_data = test_data[test_data['id'].isin(cur_id)]\n",
    "    \n",
    "    # add features & model prediction\n",
    "    cur_data = add_features(cur_data)\n",
    "    cur_data['kdist_diff'] = (cur_data['kdist'] - cur_data['kdist_country']) /\\\n",
    "                                cur_data['kdist_country']\n",
    "    cur_data['kneighbors_mean'] = cur_data[['kneighbors', 'kneighbors_country']].mean(axis = 1)\n",
    "    \n",
    "    preds = []\n",
    "    \n",
    "    for model in new_models:\n",
    "        pred = model.predict_proba(cur_data[TRAIN_FEATURES2])[:, [1]]\n",
    "        preds.append(pred)\n",
    "        \n",
    "    \n",
    "    cur_data = cur_data.replace(float('-inf'), -1)\n",
    "    cur_data = cur_data.replace(float('inf'), -1)\n",
    "    cur_data = cur_data.fillna(-1)\n",
    "    for model in models:\n",
    "        pred = model.predict_proba(cur_data[TRAIN_FEATURES])[:, [1]]\n",
    "        preds.append(pred)\n",
    "        \n",
    "    \n",
    "    preds = np.average(np.concatenate(preds, axis=1), axis=1, weights=weights).reshape(-1)\n",
    "    cur_data['pred'] = preds\n",
    "    \n",
    "    cur_pred_df = cur_data[cur_data['pred'] > THRESHOLD][['id', 'match_id']]\n",
    "    pred_df = pd.concat([pred_df, cur_pred_df])\n",
    "    \n",
    "    start_row = end_row\n",
    "    count += len(cur_data)\n",
    "\n",
    "    del cur_data, cur_pred_df\n",
    "    gc.collect()\n",
    "print(count)"
   ]
  },
  {
   "cell_type": "code",
   "execution_count": 12,
   "id": "116fa413",
   "metadata": {
    "execution": {
     "iopub.execute_input": "2022-05-30T10:41:09.687915Z",
     "iopub.status.busy": "2022-05-30T10:41:09.687585Z",
     "iopub.status.idle": "2022-05-30T10:41:09.711790Z",
     "shell.execute_reply": "2022-05-30T10:41:09.710919Z"
    },
    "papermill": {
     "duration": 0.083885,
     "end_time": "2022-05-30T10:41:09.714172",
     "exception": false,
     "start_time": "2022-05-30T10:41:09.630287",
     "status": "completed"
    },
    "tags": []
   },
   "outputs": [
    {
     "name": "stdout",
     "output_type": "stream",
     "text": [
      "Unique id: 100\n",
      "                 id                              match_id           matches\n",
      "0  E_000001272c6c5d  [E_000001272c6c5d, E_000001272c6c5d]  E_000001272c6c5d\n",
      "1  E_000002eae2a589  [E_000002eae2a589, E_000002eae2a589]  E_000002eae2a589\n",
      "2  E_000007f24ebc95  [E_000007f24ebc95, E_000007f24ebc95]  E_000007f24ebc95\n",
      "3  E_000008a8ba4f48  [E_000008a8ba4f48, E_000008a8ba4f48]  E_000008a8ba4f48\n",
      "4  E_00001d92066153  [E_00001d92066153, E_00001d92066153]  E_00001d92066153\n"
     ]
    }
   ],
   "source": [
    "## Submission    \n",
    "out_df = pd.concat([out_df, pred_df])\n",
    "out_df = out_df.groupby('id')['match_id'].\\\n",
    "                        apply(list).reset_index()\n",
    "out_df['matches'] = out_df['match_id'].apply(lambda x: ' '.join(set(x)))\n",
    "out_df = post_process(out_df)\n",
    "print('Unique id: %s' % len(out_df))\n",
    "print(out_df.head())\n",
    "\n",
    "out_df[['id', 'matches']].to_csv('submission.csv', index = False)"
   ]
  },
  {
   "cell_type": "code",
   "execution_count": null,
   "id": "f009d13b",
   "metadata": {
    "papermill": {
     "duration": 0.054049,
     "end_time": "2022-05-30T10:41:09.822815",
     "exception": false,
     "start_time": "2022-05-30T10:41:09.768766",
     "status": "completed"
    },
    "tags": []
   },
   "outputs": [],
   "source": []
  }
 ],
 "metadata": {
  "kernelspec": {
   "display_name": "Python 3",
   "language": "python",
   "name": "python3"
  },
  "language_info": {
   "codemirror_mode": {
    "name": "ipython",
    "version": 3
   },
   "file_extension": ".py",
   "mimetype": "text/x-python",
   "name": "python",
   "nbconvert_exporter": "python",
   "pygments_lexer": "ipython3",
   "version": "3.7.12"
  },
  "papermill": {
   "default_parameters": {},
   "duration": 35.192488,
   "end_time": "2022-05-30T10:41:10.797701",
   "environment_variables": {},
   "exception": null,
   "input_path": "__notebook__.ipynb",
   "output_path": "__notebook__.ipynb",
   "parameters": {},
   "start_time": "2022-05-30T10:40:35.605213",
   "version": "2.3.4"
  }
 },
 "nbformat": 4,
 "nbformat_minor": 5
}
